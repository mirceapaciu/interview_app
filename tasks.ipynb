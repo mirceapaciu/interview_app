{
 "cells": [
  {
   "cell_type": "markdown",
   "id": "e1a179ab",
   "metadata": {},
   "source": [
    "# Task Requirements"
   ]
  },
  {
   "cell_type": "markdown",
   "id": "8459eb86",
   "metadata": {},
   "source": [
    "##    Research the exact nature of interview preparation you want to do. This is intended as we want you to explore and get creative!"
   ]
  },
  {
   "cell_type": "markdown",
   "id": "064c50a9",
   "metadata": {},
   "source": [
    "- The interviewer will generate questions for a predefined job name (position). (Q: should these questions be generated automatically or they should be predefined?)\n",
    "- The user will respond to each question in sequence, without time limit.\n",
    "- Optionally the interviewer can give a feedback on the answers"
   ]
  },
  {
   "cell_type": "markdown",
   "id": "0405c381",
   "metadata": {},
   "source": [
    "##    Figure out how you are going to build the front-end, either using specific Streamlit components, or HTML/CSS in Next.js."
   ]
  },
  {
   "cell_type": "markdown",
   "id": "24b82ae5",
   "metadata": {},
   "source": [
    "The application will use Streamlit."
   ]
  },
  {
   "cell_type": "markdown",
   "id": "52df616c",
   "metadata": {},
   "source": [
    "##    Create an OpenAI API Key for this project."
   ]
  },
  {
   "cell_type": "markdown",
   "id": "f76fa3be",
   "metadata": {},
   "source": [
    "I'm using the same key as for other projects. (Q: is that OK?)"
   ]
  },
  {
   "cell_type": "markdown",
   "id": "d602c343",
   "metadata": {},
   "source": [
    "##    Write at least 5 system prompts with different techniques (few-shot learning, Chain-of-Thought, Zero-Shot Prompting, etc) and check which one works best for you."
   ]
  },
  {
   "cell_type": "code",
   "execution_count": 1,
   "id": "e2a1cb75",
   "metadata": {},
   "outputs": [],
   "source": [
    "question_count = 5\n",
    "applied_for_position = \"Software Engineer\""
   ]
  },
  {
   "cell_type": "markdown",
   "id": "dd9758f1",
   "metadata": {},
   "source": [
    "## Zero-shot"
   ]
  },
  {
   "cell_type": "code",
   "execution_count": 12,
   "id": "0dd8f385",
   "metadata": {},
   "outputs": [
    {
     "name": "stdout",
     "output_type": "stream",
     "text": [
      "Can you describe a challenging software project you worked on and how you handled the obstacles?\n",
      "What programming languages are you most proficient in, and how have you applied them in previous projects?\n",
      "How do you prioritize tasks when working on multiple software projects with tight deadlines?\n",
      "Can you explain a time when you had to work in a team to solve a difficult problem? What was your approach and outcome?\n",
      "How do you ensure the quality and reliability of your code before deployment?\n"
     ]
    }
   ],
   "source": [
    "from typing import List, Dict, Tuple\n",
    "from pydantic import BaseModel\n",
    "from openai import OpenAI\n",
    "from helper_functions import *\n",
    "\n",
    "class Questions(BaseModel):\n",
    "    questions: List[str]\n",
    "\n",
    "my_api_key = get_openai_api_key()\n",
    "client = OpenAI(api_key=my_api_key)\n",
    "\n",
    "response = client.responses.parse(\n",
    "    model=\"gpt-4o\",\n",
    "    input=[\n",
    "        {\"role\": \"system\", \"content\": f\"You are the hiring manager for the positon {applied_for_position} at a tech company.\"},\n",
    "        {\"role\": \"user\", \"content\": f\"\"\"Ask {question_count} common interview questions for this position. \n",
    "        There should be both technical and behavioral questions.\"\"\"}\n",
    "    ],\n",
    "    temperature=1.0,\n",
    "    text_format=Questions\n",
    ")\n",
    "\n",
    "questions: List[str] = response.output_parsed.questions\n",
    "for q in questions:\n",
    "    print(q)\n"
   ]
  },
  {
   "cell_type": "markdown",
   "id": "99ed5ebc",
   "metadata": {},
   "source": [
    "Output:\n",
    "- Can you describe a challenging software project you worked on and how you handled the obstacles?\n",
    "- What programming languages are you most proficient in, and how have you applied them in previous projects?\n",
    "- How do you prioritize tasks when working on multiple software projects with tight deadlines?\n",
    "- Can you explain a time when you had to work in a team to solve a difficult problem? What was your approach and outcome?\n",
    "- How do you ensure the quality and reliability of your code before deployment?"
   ]
  },
  {
   "cell_type": "markdown",
   "id": "a07d7da9",
   "metadata": {},
   "source": [
    "##    Tune at least one OpenAI setting (temperature, Top-p, frequency, etc).\n",
    "##    Add at least one security guard to your app to prevent misuse.\n"
   ]
  },
  {
   "cell_type": "markdown",
   "id": "58932c40",
   "metadata": {},
   "source": []
  }
 ],
 "metadata": {
  "kernelspec": {
   "display_name": "Python 3",
   "language": "python",
   "name": "python3"
  },
  "language_info": {
   "codemirror_mode": {
    "name": "ipython",
    "version": 3
   },
   "file_extension": ".py",
   "mimetype": "text/x-python",
   "name": "python",
   "nbconvert_exporter": "python",
   "pygments_lexer": "ipython3",
   "version": "3.13.7"
  }
 },
 "nbformat": 4,
 "nbformat_minor": 5
}
