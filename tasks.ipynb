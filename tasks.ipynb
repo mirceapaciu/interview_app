{
 "cells": [
  {
   "cell_type": "markdown",
   "id": "e1a179ab",
   "metadata": {},
   "source": [
    "# Task Requirements"
   ]
  },
  {
   "cell_type": "markdown",
   "id": "8459eb86",
   "metadata": {},
   "source": [
    "##    Research the exact nature of interview preparation you want to do. This is intended as we want you to explore and get creative!"
   ]
  },
  {
   "cell_type": "markdown",
   "id": "064c50a9",
   "metadata": {},
   "source": [
    "- The interviewer will generate questions for a predefined job name (position). (Q: should these questions be generated automatically or they should be predefined?)\n",
    "- The user will respond to each question in sequence, without time limit.\n",
    "- Optionally the interviewer can give a feedback on the answers"
   ]
  },
  {
   "cell_type": "markdown",
   "id": "0405c381",
   "metadata": {},
   "source": [
    "##    Figure out how you are going to build the front-end, either using specific Streamlit components, or HTML/CSS in Next.js."
   ]
  },
  {
   "cell_type": "markdown",
   "id": "24b82ae5",
   "metadata": {},
   "source": [
    "The application will use Streamlit."
   ]
  },
  {
   "cell_type": "markdown",
   "id": "52df616c",
   "metadata": {},
   "source": [
    "##    Create an OpenAI API Key for this project."
   ]
  },
  {
   "cell_type": "markdown",
   "id": "f76fa3be",
   "metadata": {},
   "source": [
    "I'm using the same key as for other projects. (Q: is that OK?)"
   ]
  },
  {
   "cell_type": "markdown",
   "id": "d602c343",
   "metadata": {},
   "source": [
    "##    Write at least 5 system prompts with different techniques (few-shot learning, Chain-of-Thought, Zero-Shot Prompting, etc) and check which one works best for you."
   ]
  },
  {
   "cell_type": "markdown",
   "id": "7e2e425d",
   "metadata": {},
   "source": [
    "### Initialize the global variables"
   ]
  },
  {
   "cell_type": "code",
   "execution_count": 33,
   "id": "e2a1cb75",
   "metadata": {},
   "outputs": [],
   "source": [
    "from typing import List, Dict, Tuple\n",
    "from pydantic import BaseModel\n",
    "from openai import OpenAI\n",
    "from helper_functions import *\n",
    "\n",
    "class Questions(BaseModel):\n",
    "    questions: List[str]\n",
    "\n",
    "my_api_key = get_openai_api_key()\n",
    "client = OpenAI(api_key=my_api_key)\n",
    "\n",
    "question_count = 5\n",
    "applied_for_position = \"Software Engineer\""
   ]
  },
  {
   "cell_type": "markdown",
   "id": "752d67fb",
   "metadata": {},
   "source": [
    "### Role-playing Prompting"
   ]
  },
  {
   "cell_type": "code",
   "execution_count": 41,
   "id": "5399bd2a",
   "metadata": {},
   "outputs": [
    {
     "ename": "KeyboardInterrupt",
     "evalue": "",
     "output_type": "error",
     "traceback": [
      "\u001b[31m---------------------------------------------------------------------------\u001b[39m",
      "\u001b[31mKeyboardInterrupt\u001b[39m                         Traceback (most recent call last)",
      "\u001b[36mCell\u001b[39m\u001b[36m \u001b[39m\u001b[32mIn[41]\u001b[39m\u001b[32m, line 1\u001b[39m\n\u001b[32m----> \u001b[39m\u001b[32m1\u001b[39m response = \u001b[43mclient\u001b[49m\u001b[43m.\u001b[49m\u001b[43mresponses\u001b[49m\u001b[43m.\u001b[49m\u001b[43mparse\u001b[49m\u001b[43m(\u001b[49m\n\u001b[32m      2\u001b[39m \u001b[43m    \u001b[49m\u001b[43mmodel\u001b[49m\u001b[43m=\u001b[49m\u001b[33;43m\"\u001b[39;49m\u001b[33;43mgpt-4o\u001b[39;49m\u001b[33;43m\"\u001b[39;49m\u001b[43m,\u001b[49m\n\u001b[32m      3\u001b[39m \u001b[43m    \u001b[49m\u001b[38;5;28;43minput\u001b[39;49m\u001b[43m=\u001b[49m\u001b[43m[\u001b[49m\n\u001b[32m      4\u001b[39m \u001b[43m        \u001b[49m\u001b[43m{\u001b[49m\u001b[33;43m\"\u001b[39;49m\u001b[33;43mrole\u001b[39;49m\u001b[33;43m\"\u001b[39;49m\u001b[43m:\u001b[49m\u001b[43m \u001b[49m\u001b[33;43m\"\u001b[39;49m\u001b[33;43msystem\u001b[39;49m\u001b[33;43m\"\u001b[39;49m\u001b[43m,\u001b[49m\u001b[43m \u001b[49m\u001b[33;43m\"\u001b[39;49m\u001b[33;43mcontent\u001b[39;49m\u001b[33;43m\"\u001b[39;49m\u001b[43m:\u001b[49m\u001b[43m \u001b[49m\u001b[33;43mf\u001b[39;49m\u001b[33;43m\"\"\"\u001b[39;49m\u001b[33;43mYou are the hiring manager for the positon \u001b[39;49m\u001b[38;5;132;43;01m{\u001b[39;49;00m\u001b[43mapplied_for_position\u001b[49m\u001b[38;5;132;43;01m}\u001b[39;49;00m\u001b[33;43m at a tech company.\u001b[39;49m\n\u001b[32m      5\u001b[39m \u001b[33;43m          Write \u001b[39;49m\u001b[38;5;132;43;01m{\u001b[39;49;00m\u001b[43mquestion_count\u001b[49m\u001b[38;5;132;43;01m}\u001b[39;49;00m\u001b[33;43m realistic questions that you would ask a candidate during an interview for this position.\u001b[39;49m\u001b[33;43m\"\"\"\u001b[39;49m\u001b[43m}\u001b[49m\n\u001b[32m      6\u001b[39m \u001b[43m    \u001b[49m\u001b[43m]\u001b[49m\u001b[43m,\u001b[49m\n\u001b[32m      7\u001b[39m \u001b[43m    \u001b[49m\u001b[43mtemperature\u001b[49m\u001b[43m=\u001b[49m\u001b[32;43m1.0\u001b[39;49m\u001b[43m,\u001b[49m\n\u001b[32m      8\u001b[39m \u001b[43m    \u001b[49m\u001b[43mtext_format\u001b[49m\u001b[43m=\u001b[49m\u001b[43mQuestions\u001b[49m\n\u001b[32m      9\u001b[39m \u001b[43m)\u001b[49m\n\u001b[32m     11\u001b[39m questions: List[\u001b[38;5;28mstr\u001b[39m] = response.output_parsed.questions\n\u001b[32m     12\u001b[39m \u001b[38;5;28;01mfor\u001b[39;00m q \u001b[38;5;129;01min\u001b[39;00m questions:\n",
      "\u001b[36mFile \u001b[39m\u001b[32m~\\AppData\\Local\\Packages\\PythonSoftwareFoundation.Python.3.13_qbz5n2kfra8p0\\LocalCache\\local-packages\\Python313\\site-packages\\openai\\resources\\responses\\responses.py:1129\u001b[39m, in \u001b[36mResponses.parse\u001b[39m\u001b[34m(self, text_format, background, conversation, include, input, instructions, max_output_tokens, max_tool_calls, metadata, model, parallel_tool_calls, previous_response_id, prompt, prompt_cache_key, reasoning, safety_identifier, service_tier, store, stream, stream_options, temperature, text, tool_choice, tools, top_logprobs, top_p, truncation, user, verbosity, extra_headers, extra_query, extra_body, timeout)\u001b[39m\n\u001b[32m   1122\u001b[39m \u001b[38;5;28;01mdef\u001b[39;00m\u001b[38;5;250m \u001b[39m\u001b[34mparser\u001b[39m(raw_response: Response) -> ParsedResponse[TextFormatT]:\n\u001b[32m   1123\u001b[39m     \u001b[38;5;28;01mreturn\u001b[39;00m parse_response(\n\u001b[32m   1124\u001b[39m         input_tools=tools,\n\u001b[32m   1125\u001b[39m         text_format=text_format,\n\u001b[32m   1126\u001b[39m         response=raw_response,\n\u001b[32m   1127\u001b[39m     )\n\u001b[32m-> \u001b[39m\u001b[32m1129\u001b[39m \u001b[38;5;28;01mreturn\u001b[39;00m \u001b[38;5;28;43mself\u001b[39;49m\u001b[43m.\u001b[49m\u001b[43m_post\u001b[49m\u001b[43m(\u001b[49m\n\u001b[32m   1130\u001b[39m \u001b[43m    \u001b[49m\u001b[33;43m\"\u001b[39;49m\u001b[33;43m/responses\u001b[39;49m\u001b[33;43m\"\u001b[39;49m\u001b[43m,\u001b[49m\n\u001b[32m   1131\u001b[39m \u001b[43m    \u001b[49m\u001b[43mbody\u001b[49m\u001b[43m=\u001b[49m\u001b[43mmaybe_transform\u001b[49m\u001b[43m(\u001b[49m\n\u001b[32m   1132\u001b[39m \u001b[43m        \u001b[49m\u001b[43m{\u001b[49m\n\u001b[32m   1133\u001b[39m \u001b[43m            \u001b[49m\u001b[33;43m\"\u001b[39;49m\u001b[33;43mbackground\u001b[39;49m\u001b[33;43m\"\u001b[39;49m\u001b[43m:\u001b[49m\u001b[43m \u001b[49m\u001b[43mbackground\u001b[49m\u001b[43m,\u001b[49m\n\u001b[32m   1134\u001b[39m \u001b[43m            \u001b[49m\u001b[33;43m\"\u001b[39;49m\u001b[33;43mconversation\u001b[39;49m\u001b[33;43m\"\u001b[39;49m\u001b[43m:\u001b[49m\u001b[43m \u001b[49m\u001b[43mconversation\u001b[49m\u001b[43m,\u001b[49m\n\u001b[32m   1135\u001b[39m \u001b[43m            \u001b[49m\u001b[33;43m\"\u001b[39;49m\u001b[33;43minclude\u001b[39;49m\u001b[33;43m\"\u001b[39;49m\u001b[43m:\u001b[49m\u001b[43m \u001b[49m\u001b[43minclude\u001b[49m\u001b[43m,\u001b[49m\n\u001b[32m   1136\u001b[39m \u001b[43m            \u001b[49m\u001b[33;43m\"\u001b[39;49m\u001b[33;43minput\u001b[39;49m\u001b[33;43m\"\u001b[39;49m\u001b[43m:\u001b[49m\u001b[43m \u001b[49m\u001b[38;5;28;43minput\u001b[39;49m\u001b[43m,\u001b[49m\n\u001b[32m   1137\u001b[39m \u001b[43m            \u001b[49m\u001b[33;43m\"\u001b[39;49m\u001b[33;43minstructions\u001b[39;49m\u001b[33;43m\"\u001b[39;49m\u001b[43m:\u001b[49m\u001b[43m \u001b[49m\u001b[43minstructions\u001b[49m\u001b[43m,\u001b[49m\n\u001b[32m   1138\u001b[39m \u001b[43m            \u001b[49m\u001b[33;43m\"\u001b[39;49m\u001b[33;43mmax_output_tokens\u001b[39;49m\u001b[33;43m\"\u001b[39;49m\u001b[43m:\u001b[49m\u001b[43m \u001b[49m\u001b[43mmax_output_tokens\u001b[49m\u001b[43m,\u001b[49m\n\u001b[32m   1139\u001b[39m \u001b[43m            \u001b[49m\u001b[33;43m\"\u001b[39;49m\u001b[33;43mmax_tool_calls\u001b[39;49m\u001b[33;43m\"\u001b[39;49m\u001b[43m:\u001b[49m\u001b[43m \u001b[49m\u001b[43mmax_tool_calls\u001b[49m\u001b[43m,\u001b[49m\n\u001b[32m   1140\u001b[39m \u001b[43m            \u001b[49m\u001b[33;43m\"\u001b[39;49m\u001b[33;43mmetadata\u001b[39;49m\u001b[33;43m\"\u001b[39;49m\u001b[43m:\u001b[49m\u001b[43m \u001b[49m\u001b[43mmetadata\u001b[49m\u001b[43m,\u001b[49m\n\u001b[32m   1141\u001b[39m \u001b[43m            \u001b[49m\u001b[33;43m\"\u001b[39;49m\u001b[33;43mmodel\u001b[39;49m\u001b[33;43m\"\u001b[39;49m\u001b[43m:\u001b[49m\u001b[43m \u001b[49m\u001b[43mmodel\u001b[49m\u001b[43m,\u001b[49m\n\u001b[32m   1142\u001b[39m \u001b[43m            \u001b[49m\u001b[33;43m\"\u001b[39;49m\u001b[33;43mparallel_tool_calls\u001b[39;49m\u001b[33;43m\"\u001b[39;49m\u001b[43m:\u001b[49m\u001b[43m \u001b[49m\u001b[43mparallel_tool_calls\u001b[49m\u001b[43m,\u001b[49m\n\u001b[32m   1143\u001b[39m \u001b[43m            \u001b[49m\u001b[33;43m\"\u001b[39;49m\u001b[33;43mprevious_response_id\u001b[39;49m\u001b[33;43m\"\u001b[39;49m\u001b[43m:\u001b[49m\u001b[43m \u001b[49m\u001b[43mprevious_response_id\u001b[49m\u001b[43m,\u001b[49m\n\u001b[32m   1144\u001b[39m \u001b[43m            \u001b[49m\u001b[33;43m\"\u001b[39;49m\u001b[33;43mprompt\u001b[39;49m\u001b[33;43m\"\u001b[39;49m\u001b[43m:\u001b[49m\u001b[43m \u001b[49m\u001b[43mprompt\u001b[49m\u001b[43m,\u001b[49m\n\u001b[32m   1145\u001b[39m \u001b[43m            \u001b[49m\u001b[33;43m\"\u001b[39;49m\u001b[33;43mprompt_cache_key\u001b[39;49m\u001b[33;43m\"\u001b[39;49m\u001b[43m:\u001b[49m\u001b[43m \u001b[49m\u001b[43mprompt_cache_key\u001b[49m\u001b[43m,\u001b[49m\n\u001b[32m   1146\u001b[39m \u001b[43m            \u001b[49m\u001b[33;43m\"\u001b[39;49m\u001b[33;43mreasoning\u001b[39;49m\u001b[33;43m\"\u001b[39;49m\u001b[43m:\u001b[49m\u001b[43m \u001b[49m\u001b[43mreasoning\u001b[49m\u001b[43m,\u001b[49m\n\u001b[32m   1147\u001b[39m \u001b[43m            \u001b[49m\u001b[33;43m\"\u001b[39;49m\u001b[33;43msafety_identifier\u001b[39;49m\u001b[33;43m\"\u001b[39;49m\u001b[43m:\u001b[49m\u001b[43m \u001b[49m\u001b[43msafety_identifier\u001b[49m\u001b[43m,\u001b[49m\n\u001b[32m   1148\u001b[39m \u001b[43m            \u001b[49m\u001b[33;43m\"\u001b[39;49m\u001b[33;43mservice_tier\u001b[39;49m\u001b[33;43m\"\u001b[39;49m\u001b[43m:\u001b[49m\u001b[43m \u001b[49m\u001b[43mservice_tier\u001b[49m\u001b[43m,\u001b[49m\n\u001b[32m   1149\u001b[39m \u001b[43m            \u001b[49m\u001b[33;43m\"\u001b[39;49m\u001b[33;43mstore\u001b[39;49m\u001b[33;43m\"\u001b[39;49m\u001b[43m:\u001b[49m\u001b[43m \u001b[49m\u001b[43mstore\u001b[49m\u001b[43m,\u001b[49m\n\u001b[32m   1150\u001b[39m \u001b[43m            \u001b[49m\u001b[33;43m\"\u001b[39;49m\u001b[33;43mstream\u001b[39;49m\u001b[33;43m\"\u001b[39;49m\u001b[43m:\u001b[49m\u001b[43m \u001b[49m\u001b[43mstream\u001b[49m\u001b[43m,\u001b[49m\n\u001b[32m   1151\u001b[39m \u001b[43m            \u001b[49m\u001b[33;43m\"\u001b[39;49m\u001b[33;43mstream_options\u001b[39;49m\u001b[33;43m\"\u001b[39;49m\u001b[43m:\u001b[49m\u001b[43m \u001b[49m\u001b[43mstream_options\u001b[49m\u001b[43m,\u001b[49m\n\u001b[32m   1152\u001b[39m \u001b[43m            \u001b[49m\u001b[33;43m\"\u001b[39;49m\u001b[33;43mtemperature\u001b[39;49m\u001b[33;43m\"\u001b[39;49m\u001b[43m:\u001b[49m\u001b[43m \u001b[49m\u001b[43mtemperature\u001b[49m\u001b[43m,\u001b[49m\n\u001b[32m   1153\u001b[39m \u001b[43m            \u001b[49m\u001b[33;43m\"\u001b[39;49m\u001b[33;43mtext\u001b[39;49m\u001b[33;43m\"\u001b[39;49m\u001b[43m:\u001b[49m\u001b[43m \u001b[49m\u001b[43mtext\u001b[49m\u001b[43m,\u001b[49m\n\u001b[32m   1154\u001b[39m \u001b[43m            \u001b[49m\u001b[33;43m\"\u001b[39;49m\u001b[33;43mtool_choice\u001b[39;49m\u001b[33;43m\"\u001b[39;49m\u001b[43m:\u001b[49m\u001b[43m \u001b[49m\u001b[43mtool_choice\u001b[49m\u001b[43m,\u001b[49m\n\u001b[32m   1155\u001b[39m \u001b[43m            \u001b[49m\u001b[33;43m\"\u001b[39;49m\u001b[33;43mtools\u001b[39;49m\u001b[33;43m\"\u001b[39;49m\u001b[43m:\u001b[49m\u001b[43m \u001b[49m\u001b[43mtools\u001b[49m\u001b[43m,\u001b[49m\n\u001b[32m   1156\u001b[39m \u001b[43m            \u001b[49m\u001b[33;43m\"\u001b[39;49m\u001b[33;43mtop_logprobs\u001b[39;49m\u001b[33;43m\"\u001b[39;49m\u001b[43m:\u001b[49m\u001b[43m \u001b[49m\u001b[43mtop_logprobs\u001b[49m\u001b[43m,\u001b[49m\n\u001b[32m   1157\u001b[39m \u001b[43m            \u001b[49m\u001b[33;43m\"\u001b[39;49m\u001b[33;43mtop_p\u001b[39;49m\u001b[33;43m\"\u001b[39;49m\u001b[43m:\u001b[49m\u001b[43m \u001b[49m\u001b[43mtop_p\u001b[49m\u001b[43m,\u001b[49m\n\u001b[32m   1158\u001b[39m \u001b[43m            \u001b[49m\u001b[33;43m\"\u001b[39;49m\u001b[33;43mtruncation\u001b[39;49m\u001b[33;43m\"\u001b[39;49m\u001b[43m:\u001b[49m\u001b[43m \u001b[49m\u001b[43mtruncation\u001b[49m\u001b[43m,\u001b[49m\n\u001b[32m   1159\u001b[39m \u001b[43m            \u001b[49m\u001b[33;43m\"\u001b[39;49m\u001b[33;43muser\u001b[39;49m\u001b[33;43m\"\u001b[39;49m\u001b[43m:\u001b[49m\u001b[43m \u001b[49m\u001b[43muser\u001b[49m\u001b[43m,\u001b[49m\n\u001b[32m   1160\u001b[39m \u001b[43m            \u001b[49m\u001b[33;43m\"\u001b[39;49m\u001b[33;43mverbosity\u001b[39;49m\u001b[33;43m\"\u001b[39;49m\u001b[43m:\u001b[49m\u001b[43m \u001b[49m\u001b[43mverbosity\u001b[49m\u001b[43m,\u001b[49m\n\u001b[32m   1161\u001b[39m \u001b[43m        \u001b[49m\u001b[43m}\u001b[49m\u001b[43m,\u001b[49m\n\u001b[32m   1162\u001b[39m \u001b[43m        \u001b[49m\u001b[43mresponse_create_params\u001b[49m\u001b[43m.\u001b[49m\u001b[43mResponseCreateParams\u001b[49m\u001b[43m,\u001b[49m\n\u001b[32m   1163\u001b[39m \u001b[43m    \u001b[49m\u001b[43m)\u001b[49m\u001b[43m,\u001b[49m\n\u001b[32m   1164\u001b[39m \u001b[43m    \u001b[49m\u001b[43moptions\u001b[49m\u001b[43m=\u001b[49m\u001b[43mmake_request_options\u001b[49m\u001b[43m(\u001b[49m\n\u001b[32m   1165\u001b[39m \u001b[43m        \u001b[49m\u001b[43mextra_headers\u001b[49m\u001b[43m=\u001b[49m\u001b[43mextra_headers\u001b[49m\u001b[43m,\u001b[49m\n\u001b[32m   1166\u001b[39m \u001b[43m        \u001b[49m\u001b[43mextra_query\u001b[49m\u001b[43m=\u001b[49m\u001b[43mextra_query\u001b[49m\u001b[43m,\u001b[49m\n\u001b[32m   1167\u001b[39m \u001b[43m        \u001b[49m\u001b[43mextra_body\u001b[49m\u001b[43m=\u001b[49m\u001b[43mextra_body\u001b[49m\u001b[43m,\u001b[49m\n\u001b[32m   1168\u001b[39m \u001b[43m        \u001b[49m\u001b[43mtimeout\u001b[49m\u001b[43m=\u001b[49m\u001b[43mtimeout\u001b[49m\u001b[43m,\u001b[49m\n\u001b[32m   1169\u001b[39m \u001b[43m        \u001b[49m\u001b[43mpost_parser\u001b[49m\u001b[43m=\u001b[49m\u001b[43mparser\u001b[49m\u001b[43m,\u001b[49m\n\u001b[32m   1170\u001b[39m \u001b[43m    \u001b[49m\u001b[43m)\u001b[49m\u001b[43m,\u001b[49m\n\u001b[32m   1171\u001b[39m \u001b[43m    \u001b[49m\u001b[38;5;66;43;03m# we turn the `Response` instance into a `ParsedResponse`\u001b[39;49;00m\n\u001b[32m   1172\u001b[39m \u001b[43m    \u001b[49m\u001b[38;5;66;43;03m# in the `parser` function above\u001b[39;49;00m\n\u001b[32m   1173\u001b[39m \u001b[43m    \u001b[49m\u001b[43mcast_to\u001b[49m\u001b[43m=\u001b[49m\u001b[43mcast\u001b[49m\u001b[43m(\u001b[49m\u001b[43mType\u001b[49m\u001b[43m[\u001b[49m\u001b[43mParsedResponse\u001b[49m\u001b[43m[\u001b[49m\u001b[43mTextFormatT\u001b[49m\u001b[43m]\u001b[49m\u001b[43m]\u001b[49m\u001b[43m,\u001b[49m\u001b[43m \u001b[49m\u001b[43mResponse\u001b[49m\u001b[43m)\u001b[49m\u001b[43m,\u001b[49m\n\u001b[32m   1174\u001b[39m \u001b[43m\u001b[49m\u001b[43m)\u001b[49m\n",
      "\u001b[36mFile \u001b[39m\u001b[32m~\\AppData\\Local\\Packages\\PythonSoftwareFoundation.Python.3.13_qbz5n2kfra8p0\\LocalCache\\local-packages\\Python313\\site-packages\\openai\\_base_client.py:1259\u001b[39m, in \u001b[36mSyncAPIClient.post\u001b[39m\u001b[34m(self, path, cast_to, body, options, files, stream, stream_cls)\u001b[39m\n\u001b[32m   1245\u001b[39m \u001b[38;5;28;01mdef\u001b[39;00m\u001b[38;5;250m \u001b[39m\u001b[34mpost\u001b[39m(\n\u001b[32m   1246\u001b[39m     \u001b[38;5;28mself\u001b[39m,\n\u001b[32m   1247\u001b[39m     path: \u001b[38;5;28mstr\u001b[39m,\n\u001b[32m   (...)\u001b[39m\u001b[32m   1254\u001b[39m     stream_cls: \u001b[38;5;28mtype\u001b[39m[_StreamT] | \u001b[38;5;28;01mNone\u001b[39;00m = \u001b[38;5;28;01mNone\u001b[39;00m,\n\u001b[32m   1255\u001b[39m ) -> ResponseT | _StreamT:\n\u001b[32m   1256\u001b[39m     opts = FinalRequestOptions.construct(\n\u001b[32m   1257\u001b[39m         method=\u001b[33m\"\u001b[39m\u001b[33mpost\u001b[39m\u001b[33m\"\u001b[39m, url=path, json_data=body, files=to_httpx_files(files), **options\n\u001b[32m   1258\u001b[39m     )\n\u001b[32m-> \u001b[39m\u001b[32m1259\u001b[39m     \u001b[38;5;28;01mreturn\u001b[39;00m cast(ResponseT, \u001b[38;5;28;43mself\u001b[39;49m\u001b[43m.\u001b[49m\u001b[43mrequest\u001b[49m\u001b[43m(\u001b[49m\u001b[43mcast_to\u001b[49m\u001b[43m,\u001b[49m\u001b[43m \u001b[49m\u001b[43mopts\u001b[49m\u001b[43m,\u001b[49m\u001b[43m \u001b[49m\u001b[43mstream\u001b[49m\u001b[43m=\u001b[49m\u001b[43mstream\u001b[49m\u001b[43m,\u001b[49m\u001b[43m \u001b[49m\u001b[43mstream_cls\u001b[49m\u001b[43m=\u001b[49m\u001b[43mstream_cls\u001b[49m\u001b[43m)\u001b[49m)\n",
      "\u001b[36mFile \u001b[39m\u001b[32m~\\AppData\\Local\\Packages\\PythonSoftwareFoundation.Python.3.13_qbz5n2kfra8p0\\LocalCache\\local-packages\\Python313\\site-packages\\openai\\_base_client.py:982\u001b[39m, in \u001b[36mSyncAPIClient.request\u001b[39m\u001b[34m(self, cast_to, options, stream, stream_cls)\u001b[39m\n\u001b[32m    980\u001b[39m response = \u001b[38;5;28;01mNone\u001b[39;00m\n\u001b[32m    981\u001b[39m \u001b[38;5;28;01mtry\u001b[39;00m:\n\u001b[32m--> \u001b[39m\u001b[32m982\u001b[39m     response = \u001b[38;5;28;43mself\u001b[39;49m\u001b[43m.\u001b[49m\u001b[43m_client\u001b[49m\u001b[43m.\u001b[49m\u001b[43msend\u001b[49m\u001b[43m(\u001b[49m\n\u001b[32m    983\u001b[39m \u001b[43m        \u001b[49m\u001b[43mrequest\u001b[49m\u001b[43m,\u001b[49m\n\u001b[32m    984\u001b[39m \u001b[43m        \u001b[49m\u001b[43mstream\u001b[49m\u001b[43m=\u001b[49m\u001b[43mstream\u001b[49m\u001b[43m \u001b[49m\u001b[38;5;129;43;01mor\u001b[39;49;00m\u001b[43m \u001b[49m\u001b[38;5;28;43mself\u001b[39;49m\u001b[43m.\u001b[49m\u001b[43m_should_stream_response_body\u001b[49m\u001b[43m(\u001b[49m\u001b[43mrequest\u001b[49m\u001b[43m=\u001b[49m\u001b[43mrequest\u001b[49m\u001b[43m)\u001b[49m\u001b[43m,\u001b[49m\n\u001b[32m    985\u001b[39m \u001b[43m        \u001b[49m\u001b[43m*\u001b[49m\u001b[43m*\u001b[49m\u001b[43mkwargs\u001b[49m\u001b[43m,\u001b[49m\n\u001b[32m    986\u001b[39m \u001b[43m    \u001b[49m\u001b[43m)\u001b[49m\n\u001b[32m    987\u001b[39m \u001b[38;5;28;01mexcept\u001b[39;00m httpx.TimeoutException \u001b[38;5;28;01mas\u001b[39;00m err:\n\u001b[32m    988\u001b[39m     log.debug(\u001b[33m\"\u001b[39m\u001b[33mEncountered httpx.TimeoutException\u001b[39m\u001b[33m\"\u001b[39m, exc_info=\u001b[38;5;28;01mTrue\u001b[39;00m)\n",
      "\u001b[36mFile \u001b[39m\u001b[32m~\\AppData\\Local\\Packages\\PythonSoftwareFoundation.Python.3.13_qbz5n2kfra8p0\\LocalCache\\local-packages\\Python313\\site-packages\\httpx\\_client.py:914\u001b[39m, in \u001b[36mClient.send\u001b[39m\u001b[34m(self, request, stream, auth, follow_redirects)\u001b[39m\n\u001b[32m    910\u001b[39m \u001b[38;5;28mself\u001b[39m._set_timeout(request)\n\u001b[32m    912\u001b[39m auth = \u001b[38;5;28mself\u001b[39m._build_request_auth(request, auth)\n\u001b[32m--> \u001b[39m\u001b[32m914\u001b[39m response = \u001b[38;5;28;43mself\u001b[39;49m\u001b[43m.\u001b[49m\u001b[43m_send_handling_auth\u001b[49m\u001b[43m(\u001b[49m\n\u001b[32m    915\u001b[39m \u001b[43m    \u001b[49m\u001b[43mrequest\u001b[49m\u001b[43m,\u001b[49m\n\u001b[32m    916\u001b[39m \u001b[43m    \u001b[49m\u001b[43mauth\u001b[49m\u001b[43m=\u001b[49m\u001b[43mauth\u001b[49m\u001b[43m,\u001b[49m\n\u001b[32m    917\u001b[39m \u001b[43m    \u001b[49m\u001b[43mfollow_redirects\u001b[49m\u001b[43m=\u001b[49m\u001b[43mfollow_redirects\u001b[49m\u001b[43m,\u001b[49m\n\u001b[32m    918\u001b[39m \u001b[43m    \u001b[49m\u001b[43mhistory\u001b[49m\u001b[43m=\u001b[49m\u001b[43m[\u001b[49m\u001b[43m]\u001b[49m\u001b[43m,\u001b[49m\n\u001b[32m    919\u001b[39m \u001b[43m\u001b[49m\u001b[43m)\u001b[49m\n\u001b[32m    920\u001b[39m \u001b[38;5;28;01mtry\u001b[39;00m:\n\u001b[32m    921\u001b[39m     \u001b[38;5;28;01mif\u001b[39;00m \u001b[38;5;129;01mnot\u001b[39;00m stream:\n",
      "\u001b[36mFile \u001b[39m\u001b[32m~\\AppData\\Local\\Packages\\PythonSoftwareFoundation.Python.3.13_qbz5n2kfra8p0\\LocalCache\\local-packages\\Python313\\site-packages\\httpx\\_client.py:942\u001b[39m, in \u001b[36mClient._send_handling_auth\u001b[39m\u001b[34m(self, request, auth, follow_redirects, history)\u001b[39m\n\u001b[32m    939\u001b[39m request = \u001b[38;5;28mnext\u001b[39m(auth_flow)\n\u001b[32m    941\u001b[39m \u001b[38;5;28;01mwhile\u001b[39;00m \u001b[38;5;28;01mTrue\u001b[39;00m:\n\u001b[32m--> \u001b[39m\u001b[32m942\u001b[39m     response = \u001b[38;5;28;43mself\u001b[39;49m\u001b[43m.\u001b[49m\u001b[43m_send_handling_redirects\u001b[49m\u001b[43m(\u001b[49m\n\u001b[32m    943\u001b[39m \u001b[43m        \u001b[49m\u001b[43mrequest\u001b[49m\u001b[43m,\u001b[49m\n\u001b[32m    944\u001b[39m \u001b[43m        \u001b[49m\u001b[43mfollow_redirects\u001b[49m\u001b[43m=\u001b[49m\u001b[43mfollow_redirects\u001b[49m\u001b[43m,\u001b[49m\n\u001b[32m    945\u001b[39m \u001b[43m        \u001b[49m\u001b[43mhistory\u001b[49m\u001b[43m=\u001b[49m\u001b[43mhistory\u001b[49m\u001b[43m,\u001b[49m\n\u001b[32m    946\u001b[39m \u001b[43m    \u001b[49m\u001b[43m)\u001b[49m\n\u001b[32m    947\u001b[39m     \u001b[38;5;28;01mtry\u001b[39;00m:\n\u001b[32m    948\u001b[39m         \u001b[38;5;28;01mtry\u001b[39;00m:\n",
      "\u001b[36mFile \u001b[39m\u001b[32m~\\AppData\\Local\\Packages\\PythonSoftwareFoundation.Python.3.13_qbz5n2kfra8p0\\LocalCache\\local-packages\\Python313\\site-packages\\httpx\\_client.py:979\u001b[39m, in \u001b[36mClient._send_handling_redirects\u001b[39m\u001b[34m(self, request, follow_redirects, history)\u001b[39m\n\u001b[32m    976\u001b[39m \u001b[38;5;28;01mfor\u001b[39;00m hook \u001b[38;5;129;01min\u001b[39;00m \u001b[38;5;28mself\u001b[39m._event_hooks[\u001b[33m\"\u001b[39m\u001b[33mrequest\u001b[39m\u001b[33m\"\u001b[39m]:\n\u001b[32m    977\u001b[39m     hook(request)\n\u001b[32m--> \u001b[39m\u001b[32m979\u001b[39m response = \u001b[38;5;28;43mself\u001b[39;49m\u001b[43m.\u001b[49m\u001b[43m_send_single_request\u001b[49m\u001b[43m(\u001b[49m\u001b[43mrequest\u001b[49m\u001b[43m)\u001b[49m\n\u001b[32m    980\u001b[39m \u001b[38;5;28;01mtry\u001b[39;00m:\n\u001b[32m    981\u001b[39m     \u001b[38;5;28;01mfor\u001b[39;00m hook \u001b[38;5;129;01min\u001b[39;00m \u001b[38;5;28mself\u001b[39m._event_hooks[\u001b[33m\"\u001b[39m\u001b[33mresponse\u001b[39m\u001b[33m\"\u001b[39m]:\n",
      "\u001b[36mFile \u001b[39m\u001b[32m~\\AppData\\Local\\Packages\\PythonSoftwareFoundation.Python.3.13_qbz5n2kfra8p0\\LocalCache\\local-packages\\Python313\\site-packages\\httpx\\_client.py:1014\u001b[39m, in \u001b[36mClient._send_single_request\u001b[39m\u001b[34m(self, request)\u001b[39m\n\u001b[32m   1009\u001b[39m     \u001b[38;5;28;01mraise\u001b[39;00m \u001b[38;5;167;01mRuntimeError\u001b[39;00m(\n\u001b[32m   1010\u001b[39m         \u001b[33m\"\u001b[39m\u001b[33mAttempted to send an async request with a sync Client instance.\u001b[39m\u001b[33m\"\u001b[39m\n\u001b[32m   1011\u001b[39m     )\n\u001b[32m   1013\u001b[39m \u001b[38;5;28;01mwith\u001b[39;00m request_context(request=request):\n\u001b[32m-> \u001b[39m\u001b[32m1014\u001b[39m     response = \u001b[43mtransport\u001b[49m\u001b[43m.\u001b[49m\u001b[43mhandle_request\u001b[49m\u001b[43m(\u001b[49m\u001b[43mrequest\u001b[49m\u001b[43m)\u001b[49m\n\u001b[32m   1016\u001b[39m \u001b[38;5;28;01massert\u001b[39;00m \u001b[38;5;28misinstance\u001b[39m(response.stream, SyncByteStream)\n\u001b[32m   1018\u001b[39m response.request = request\n",
      "\u001b[36mFile \u001b[39m\u001b[32m~\\AppData\\Local\\Packages\\PythonSoftwareFoundation.Python.3.13_qbz5n2kfra8p0\\LocalCache\\local-packages\\Python313\\site-packages\\httpx\\_transports\\default.py:250\u001b[39m, in \u001b[36mHTTPTransport.handle_request\u001b[39m\u001b[34m(self, request)\u001b[39m\n\u001b[32m    237\u001b[39m req = httpcore.Request(\n\u001b[32m    238\u001b[39m     method=request.method,\n\u001b[32m    239\u001b[39m     url=httpcore.URL(\n\u001b[32m   (...)\u001b[39m\u001b[32m    247\u001b[39m     extensions=request.extensions,\n\u001b[32m    248\u001b[39m )\n\u001b[32m    249\u001b[39m \u001b[38;5;28;01mwith\u001b[39;00m map_httpcore_exceptions():\n\u001b[32m--> \u001b[39m\u001b[32m250\u001b[39m     resp = \u001b[38;5;28;43mself\u001b[39;49m\u001b[43m.\u001b[49m\u001b[43m_pool\u001b[49m\u001b[43m.\u001b[49m\u001b[43mhandle_request\u001b[49m\u001b[43m(\u001b[49m\u001b[43mreq\u001b[49m\u001b[43m)\u001b[49m\n\u001b[32m    252\u001b[39m \u001b[38;5;28;01massert\u001b[39;00m \u001b[38;5;28misinstance\u001b[39m(resp.stream, typing.Iterable)\n\u001b[32m    254\u001b[39m \u001b[38;5;28;01mreturn\u001b[39;00m Response(\n\u001b[32m    255\u001b[39m     status_code=resp.status,\n\u001b[32m    256\u001b[39m     headers=resp.headers,\n\u001b[32m    257\u001b[39m     stream=ResponseStream(resp.stream),\n\u001b[32m    258\u001b[39m     extensions=resp.extensions,\n\u001b[32m    259\u001b[39m )\n",
      "\u001b[36mFile \u001b[39m\u001b[32m~\\AppData\\Local\\Packages\\PythonSoftwareFoundation.Python.3.13_qbz5n2kfra8p0\\LocalCache\\local-packages\\Python313\\site-packages\\httpcore\\_sync\\connection_pool.py:256\u001b[39m, in \u001b[36mConnectionPool.handle_request\u001b[39m\u001b[34m(self, request)\u001b[39m\n\u001b[32m    253\u001b[39m         closing = \u001b[38;5;28mself\u001b[39m._assign_requests_to_connections()\n\u001b[32m    255\u001b[39m     \u001b[38;5;28mself\u001b[39m._close_connections(closing)\n\u001b[32m--> \u001b[39m\u001b[32m256\u001b[39m     \u001b[38;5;28;01mraise\u001b[39;00m exc \u001b[38;5;28;01mfrom\u001b[39;00m\u001b[38;5;250m \u001b[39m\u001b[38;5;28;01mNone\u001b[39;00m\n\u001b[32m    258\u001b[39m \u001b[38;5;66;03m# Return the response. Note that in this case we still have to manage\u001b[39;00m\n\u001b[32m    259\u001b[39m \u001b[38;5;66;03m# the point at which the response is closed.\u001b[39;00m\n\u001b[32m    260\u001b[39m \u001b[38;5;28;01massert\u001b[39;00m \u001b[38;5;28misinstance\u001b[39m(response.stream, typing.Iterable)\n",
      "\u001b[36mFile \u001b[39m\u001b[32m~\\AppData\\Local\\Packages\\PythonSoftwareFoundation.Python.3.13_qbz5n2kfra8p0\\LocalCache\\local-packages\\Python313\\site-packages\\httpcore\\_sync\\connection_pool.py:236\u001b[39m, in \u001b[36mConnectionPool.handle_request\u001b[39m\u001b[34m(self, request)\u001b[39m\n\u001b[32m    232\u001b[39m connection = pool_request.wait_for_connection(timeout=timeout)\n\u001b[32m    234\u001b[39m \u001b[38;5;28;01mtry\u001b[39;00m:\n\u001b[32m    235\u001b[39m     \u001b[38;5;66;03m# Send the request on the assigned connection.\u001b[39;00m\n\u001b[32m--> \u001b[39m\u001b[32m236\u001b[39m     response = \u001b[43mconnection\u001b[49m\u001b[43m.\u001b[49m\u001b[43mhandle_request\u001b[49m\u001b[43m(\u001b[49m\n\u001b[32m    237\u001b[39m \u001b[43m        \u001b[49m\u001b[43mpool_request\u001b[49m\u001b[43m.\u001b[49m\u001b[43mrequest\u001b[49m\n\u001b[32m    238\u001b[39m \u001b[43m    \u001b[49m\u001b[43m)\u001b[49m\n\u001b[32m    239\u001b[39m \u001b[38;5;28;01mexcept\u001b[39;00m ConnectionNotAvailable:\n\u001b[32m    240\u001b[39m     \u001b[38;5;66;03m# In some cases a connection may initially be available to\u001b[39;00m\n\u001b[32m    241\u001b[39m     \u001b[38;5;66;03m# handle a request, but then become unavailable.\u001b[39;00m\n\u001b[32m    242\u001b[39m     \u001b[38;5;66;03m#\u001b[39;00m\n\u001b[32m    243\u001b[39m     \u001b[38;5;66;03m# In this case we clear the connection and try again.\u001b[39;00m\n\u001b[32m    244\u001b[39m     pool_request.clear_connection()\n",
      "\u001b[36mFile \u001b[39m\u001b[32m~\\AppData\\Local\\Packages\\PythonSoftwareFoundation.Python.3.13_qbz5n2kfra8p0\\LocalCache\\local-packages\\Python313\\site-packages\\httpcore\\_sync\\connection.py:103\u001b[39m, in \u001b[36mHTTPConnection.handle_request\u001b[39m\u001b[34m(self, request)\u001b[39m\n\u001b[32m    100\u001b[39m     \u001b[38;5;28mself\u001b[39m._connect_failed = \u001b[38;5;28;01mTrue\u001b[39;00m\n\u001b[32m    101\u001b[39m     \u001b[38;5;28;01mraise\u001b[39;00m exc\n\u001b[32m--> \u001b[39m\u001b[32m103\u001b[39m \u001b[38;5;28;01mreturn\u001b[39;00m \u001b[38;5;28;43mself\u001b[39;49m\u001b[43m.\u001b[49m\u001b[43m_connection\u001b[49m\u001b[43m.\u001b[49m\u001b[43mhandle_request\u001b[49m\u001b[43m(\u001b[49m\u001b[43mrequest\u001b[49m\u001b[43m)\u001b[49m\n",
      "\u001b[36mFile \u001b[39m\u001b[32m~\\AppData\\Local\\Packages\\PythonSoftwareFoundation.Python.3.13_qbz5n2kfra8p0\\LocalCache\\local-packages\\Python313\\site-packages\\httpcore\\_sync\\http11.py:136\u001b[39m, in \u001b[36mHTTP11Connection.handle_request\u001b[39m\u001b[34m(self, request)\u001b[39m\n\u001b[32m    134\u001b[39m     \u001b[38;5;28;01mwith\u001b[39;00m Trace(\u001b[33m\"\u001b[39m\u001b[33mresponse_closed\u001b[39m\u001b[33m\"\u001b[39m, logger, request) \u001b[38;5;28;01mas\u001b[39;00m trace:\n\u001b[32m    135\u001b[39m         \u001b[38;5;28mself\u001b[39m._response_closed()\n\u001b[32m--> \u001b[39m\u001b[32m136\u001b[39m \u001b[38;5;28;01mraise\u001b[39;00m exc\n",
      "\u001b[36mFile \u001b[39m\u001b[32m~\\AppData\\Local\\Packages\\PythonSoftwareFoundation.Python.3.13_qbz5n2kfra8p0\\LocalCache\\local-packages\\Python313\\site-packages\\httpcore\\_sync\\http11.py:106\u001b[39m, in \u001b[36mHTTP11Connection.handle_request\u001b[39m\u001b[34m(self, request)\u001b[39m\n\u001b[32m     95\u001b[39m     \u001b[38;5;28;01mpass\u001b[39;00m\n\u001b[32m     97\u001b[39m \u001b[38;5;28;01mwith\u001b[39;00m Trace(\n\u001b[32m     98\u001b[39m     \u001b[33m\"\u001b[39m\u001b[33mreceive_response_headers\u001b[39m\u001b[33m\"\u001b[39m, logger, request, kwargs\n\u001b[32m     99\u001b[39m ) \u001b[38;5;28;01mas\u001b[39;00m trace:\n\u001b[32m    100\u001b[39m     (\n\u001b[32m    101\u001b[39m         http_version,\n\u001b[32m    102\u001b[39m         status,\n\u001b[32m    103\u001b[39m         reason_phrase,\n\u001b[32m    104\u001b[39m         headers,\n\u001b[32m    105\u001b[39m         trailing_data,\n\u001b[32m--> \u001b[39m\u001b[32m106\u001b[39m     ) = \u001b[38;5;28;43mself\u001b[39;49m\u001b[43m.\u001b[49m\u001b[43m_receive_response_headers\u001b[49m\u001b[43m(\u001b[49m\u001b[43m*\u001b[49m\u001b[43m*\u001b[49m\u001b[43mkwargs\u001b[49m\u001b[43m)\u001b[49m\n\u001b[32m    107\u001b[39m     trace.return_value = (\n\u001b[32m    108\u001b[39m         http_version,\n\u001b[32m    109\u001b[39m         status,\n\u001b[32m    110\u001b[39m         reason_phrase,\n\u001b[32m    111\u001b[39m         headers,\n\u001b[32m    112\u001b[39m     )\n\u001b[32m    114\u001b[39m network_stream = \u001b[38;5;28mself\u001b[39m._network_stream\n",
      "\u001b[36mFile \u001b[39m\u001b[32m~\\AppData\\Local\\Packages\\PythonSoftwareFoundation.Python.3.13_qbz5n2kfra8p0\\LocalCache\\local-packages\\Python313\\site-packages\\httpcore\\_sync\\http11.py:177\u001b[39m, in \u001b[36mHTTP11Connection._receive_response_headers\u001b[39m\u001b[34m(self, request)\u001b[39m\n\u001b[32m    174\u001b[39m timeout = timeouts.get(\u001b[33m\"\u001b[39m\u001b[33mread\u001b[39m\u001b[33m\"\u001b[39m, \u001b[38;5;28;01mNone\u001b[39;00m)\n\u001b[32m    176\u001b[39m \u001b[38;5;28;01mwhile\u001b[39;00m \u001b[38;5;28;01mTrue\u001b[39;00m:\n\u001b[32m--> \u001b[39m\u001b[32m177\u001b[39m     event = \u001b[38;5;28;43mself\u001b[39;49m\u001b[43m.\u001b[49m\u001b[43m_receive_event\u001b[49m\u001b[43m(\u001b[49m\u001b[43mtimeout\u001b[49m\u001b[43m=\u001b[49m\u001b[43mtimeout\u001b[49m\u001b[43m)\u001b[49m\n\u001b[32m    178\u001b[39m     \u001b[38;5;28;01mif\u001b[39;00m \u001b[38;5;28misinstance\u001b[39m(event, h11.Response):\n\u001b[32m    179\u001b[39m         \u001b[38;5;28;01mbreak\u001b[39;00m\n",
      "\u001b[36mFile \u001b[39m\u001b[32m~\\AppData\\Local\\Packages\\PythonSoftwareFoundation.Python.3.13_qbz5n2kfra8p0\\LocalCache\\local-packages\\Python313\\site-packages\\httpcore\\_sync\\http11.py:217\u001b[39m, in \u001b[36mHTTP11Connection._receive_event\u001b[39m\u001b[34m(self, timeout)\u001b[39m\n\u001b[32m    214\u001b[39m     event = \u001b[38;5;28mself\u001b[39m._h11_state.next_event()\n\u001b[32m    216\u001b[39m \u001b[38;5;28;01mif\u001b[39;00m event \u001b[38;5;129;01mis\u001b[39;00m h11.NEED_DATA:\n\u001b[32m--> \u001b[39m\u001b[32m217\u001b[39m     data = \u001b[38;5;28;43mself\u001b[39;49m\u001b[43m.\u001b[49m\u001b[43m_network_stream\u001b[49m\u001b[43m.\u001b[49m\u001b[43mread\u001b[49m\u001b[43m(\u001b[49m\n\u001b[32m    218\u001b[39m \u001b[43m        \u001b[49m\u001b[38;5;28;43mself\u001b[39;49m\u001b[43m.\u001b[49m\u001b[43mREAD_NUM_BYTES\u001b[49m\u001b[43m,\u001b[49m\u001b[43m \u001b[49m\u001b[43mtimeout\u001b[49m\u001b[43m=\u001b[49m\u001b[43mtimeout\u001b[49m\n\u001b[32m    219\u001b[39m \u001b[43m    \u001b[49m\u001b[43m)\u001b[49m\n\u001b[32m    221\u001b[39m     \u001b[38;5;66;03m# If we feed this case through h11 we'll raise an exception like:\u001b[39;00m\n\u001b[32m    222\u001b[39m     \u001b[38;5;66;03m#\u001b[39;00m\n\u001b[32m    223\u001b[39m     \u001b[38;5;66;03m#     httpcore.RemoteProtocolError: can't handle event type\u001b[39;00m\n\u001b[32m   (...)\u001b[39m\u001b[32m    227\u001b[39m     \u001b[38;5;66;03m# perspective. Instead we handle this case distinctly and treat\u001b[39;00m\n\u001b[32m    228\u001b[39m     \u001b[38;5;66;03m# it as a ConnectError.\u001b[39;00m\n\u001b[32m    229\u001b[39m     \u001b[38;5;28;01mif\u001b[39;00m data == \u001b[33mb\u001b[39m\u001b[33m\"\u001b[39m\u001b[33m\"\u001b[39m \u001b[38;5;129;01mand\u001b[39;00m \u001b[38;5;28mself\u001b[39m._h11_state.their_state == h11.SEND_RESPONSE:\n",
      "\u001b[36mFile \u001b[39m\u001b[32m~\\AppData\\Local\\Packages\\PythonSoftwareFoundation.Python.3.13_qbz5n2kfra8p0\\LocalCache\\local-packages\\Python313\\site-packages\\httpcore\\_backends\\sync.py:128\u001b[39m, in \u001b[36mSyncStream.read\u001b[39m\u001b[34m(self, max_bytes, timeout)\u001b[39m\n\u001b[32m    126\u001b[39m \u001b[38;5;28;01mwith\u001b[39;00m map_exceptions(exc_map):\n\u001b[32m    127\u001b[39m     \u001b[38;5;28mself\u001b[39m._sock.settimeout(timeout)\n\u001b[32m--> \u001b[39m\u001b[32m128\u001b[39m     \u001b[38;5;28;01mreturn\u001b[39;00m \u001b[38;5;28;43mself\u001b[39;49m\u001b[43m.\u001b[49m\u001b[43m_sock\u001b[49m\u001b[43m.\u001b[49m\u001b[43mrecv\u001b[49m\u001b[43m(\u001b[49m\u001b[43mmax_bytes\u001b[49m\u001b[43m)\u001b[49m\n",
      "\u001b[36mFile \u001b[39m\u001b[32mC:\\Program Files\\WindowsApps\\PythonSoftwareFoundation.Python.3.13_3.13.2032.0_x64__qbz5n2kfra8p0\\Lib\\ssl.py:1285\u001b[39m, in \u001b[36mSSLSocket.recv\u001b[39m\u001b[34m(self, buflen, flags)\u001b[39m\n\u001b[32m   1281\u001b[39m     \u001b[38;5;28;01mif\u001b[39;00m flags != \u001b[32m0\u001b[39m:\n\u001b[32m   1282\u001b[39m         \u001b[38;5;28;01mraise\u001b[39;00m \u001b[38;5;167;01mValueError\u001b[39;00m(\n\u001b[32m   1283\u001b[39m             \u001b[33m\"\u001b[39m\u001b[33mnon-zero flags not allowed in calls to recv() on \u001b[39m\u001b[38;5;132;01m%s\u001b[39;00m\u001b[33m\"\u001b[39m %\n\u001b[32m   1284\u001b[39m             \u001b[38;5;28mself\u001b[39m.\u001b[34m__class__\u001b[39m)\n\u001b[32m-> \u001b[39m\u001b[32m1285\u001b[39m     \u001b[38;5;28;01mreturn\u001b[39;00m \u001b[38;5;28;43mself\u001b[39;49m\u001b[43m.\u001b[49m\u001b[43mread\u001b[49m\u001b[43m(\u001b[49m\u001b[43mbuflen\u001b[49m\u001b[43m)\u001b[49m\n\u001b[32m   1286\u001b[39m \u001b[38;5;28;01melse\u001b[39;00m:\n\u001b[32m   1287\u001b[39m     \u001b[38;5;28;01mreturn\u001b[39;00m \u001b[38;5;28msuper\u001b[39m().recv(buflen, flags)\n",
      "\u001b[36mFile \u001b[39m\u001b[32mC:\\Program Files\\WindowsApps\\PythonSoftwareFoundation.Python.3.13_3.13.2032.0_x64__qbz5n2kfra8p0\\Lib\\ssl.py:1140\u001b[39m, in \u001b[36mSSLSocket.read\u001b[39m\u001b[34m(self, len, buffer)\u001b[39m\n\u001b[32m   1138\u001b[39m         \u001b[38;5;28;01mreturn\u001b[39;00m \u001b[38;5;28mself\u001b[39m._sslobj.read(\u001b[38;5;28mlen\u001b[39m, buffer)\n\u001b[32m   1139\u001b[39m     \u001b[38;5;28;01melse\u001b[39;00m:\n\u001b[32m-> \u001b[39m\u001b[32m1140\u001b[39m         \u001b[38;5;28;01mreturn\u001b[39;00m \u001b[38;5;28;43mself\u001b[39;49m\u001b[43m.\u001b[49m\u001b[43m_sslobj\u001b[49m\u001b[43m.\u001b[49m\u001b[43mread\u001b[49m\u001b[43m(\u001b[49m\u001b[38;5;28;43mlen\u001b[39;49m\u001b[43m)\u001b[49m\n\u001b[32m   1141\u001b[39m \u001b[38;5;28;01mexcept\u001b[39;00m SSLError \u001b[38;5;28;01mas\u001b[39;00m x:\n\u001b[32m   1142\u001b[39m     \u001b[38;5;28;01mif\u001b[39;00m x.args[\u001b[32m0\u001b[39m] == SSL_ERROR_EOF \u001b[38;5;129;01mand\u001b[39;00m \u001b[38;5;28mself\u001b[39m.suppress_ragged_eofs:\n",
      "\u001b[31mKeyboardInterrupt\u001b[39m: "
     ]
    }
   ],
   "source": [
    "response = client.responses.parse(\n",
    "    model=\"gpt-4o\",\n",
    "    input=[\n",
    "        {\"role\": \"system\", \"content\": f\"\"\"You are the hiring manager for the positon {applied_for_position} at a tech company.\n",
    "          Write {question_count} realistic questions that you would ask a candidate during an interview for this position.\"\"\"}\n",
    "    ],\n",
    "    temperature=1.0,\n",
    "    text_format=Questions\n",
    ")\n",
    "\n",
    "questions: List[str] = response.output_parsed.questions\n",
    "for q in questions:\n",
    "    print(\"- \" + q)\n"
   ]
  },
  {
   "cell_type": "markdown",
   "id": "979d187c",
   "metadata": {},
   "source": [
    "Output:\n",
    "- Can you describe a project you worked on that required collaboration with cross-functional teams? How did you handle any challenges?\n",
    "- How do you approach debugging a complex software issue? Can you provide an example where your debugging skills really made a difference?\n",
    "- What programming languages and technologies are you most comfortable with, and how do you decide which to use for a given project?\n",
    "- Tell us about a time when you had to learn a new technology or programming language quickly. How did you approach the learning process?\n",
    "- How do you ensure the code you write is both efficient and maintainable? Provide an example of a best practice you follow."
   ]
  },
  {
   "cell_type": "markdown",
   "id": "dd9758f1",
   "metadata": {},
   "source": [
    "### Zero-shot Prompting"
   ]
  },
  {
   "cell_type": "code",
   "execution_count": 46,
   "id": "0dd8f385",
   "metadata": {},
   "outputs": [
    {
     "name": "stdout",
     "output_type": "stream",
     "text": [
      "- Can you describe a challenging software project you worked on and how you overcame the obstacles?\n",
      "- How do you ensure code quality and maintainability when working on a software development project?\n",
      "- Explain a situation where you had to quickly learn a new technology or programming language. How did you approach it?\n",
      "- How do you handle tight deadlines or multiple projects with competing priorities?\n",
      "- Describe your experience with version control systems like Git. How do you manage branching and merging in your projects?\n"
     ]
    }
   ],
   "source": [
    "response = client.responses.parse(\n",
    "    model=\"gpt-4o\",\n",
    "    input=[ # Should I put all messages as system messages?\n",
    "        {\"role\": \"system\", \"content\": f\"Ask {question_count} common interview questions for the positon {applied_for_position}.\"}\n",
    "    ],\n",
    "    temperature=1.0,\n",
    "    text_format=Questions\n",
    ")\n",
    "\n",
    "questions: List[str] = response.output_parsed.questions\n",
    "for q in questions:\n",
    "    print(\"- \" + q)\n"
   ]
  },
  {
   "cell_type": "markdown",
   "id": "99ed5ebc",
   "metadata": {},
   "source": [
    "Output:\n",
    "- Can you describe your experience with software development and the technologies you are most comfortable using?\n",
    "- How do you approach problem-solving and debugging in your projects?\n",
    "- Can you provide an example of a challenging project you worked on and how you contributed to its success?\n",
    "- How do you prioritize tasks and manage time when working on multiple projects?\n",
    "- How do you stay updated with the latest trends and advancements in software engineering?"
   ]
  },
  {
   "cell_type": "markdown",
   "id": "458701f6",
   "metadata": {},
   "source": [
    "### Few-Shot Prompting"
   ]
  },
  {
   "cell_type": "code",
   "execution_count": 38,
   "id": "2c7cdc9d",
   "metadata": {},
   "outputs": [
    {
     "name": "stdout",
     "output_type": "stream",
     "text": [
      "- Can you describe a challenging software project you worked on and how you handled the obstacles?\n",
      "- What programming languages are you most proficient in, and how have you applied them in previous projects?\n",
      "- How do you approach debugging a complex issue in code?\n",
      "- Tell me about a time when you disagreed with a team member about a technical decision. How did you resolve it?\n",
      "- Explain a software design pattern you have used in the past and why you chose that particular pattern.\n"
     ]
    }
   ],
   "source": [
    "response = client.responses.parse(\n",
    "    model=\"gpt-4o\",\n",
    "    input=[\n",
    "        {\"role\": \"system\", \"content\": f\"\"\"You are the hiring manager for the positon {applied_for_position} at a tech company.\n",
    "        Ask {question_count} common interview questions for this position. \n",
    "        There should be both technical and behavioral questions.\n",
    "        For Example:\n",
    "        Can you describe a challenging software project you worked on and how you handled the obstacles?\n",
    "        What programming languages are you most proficient in, and how have you applied them in previous projects?\"\"\"}\n",
    "    ],\n",
    "    temperature=1.0,\n",
    "    text_format=Questions\n",
    ")\n",
    "\n",
    "questions: List[str] = response.output_parsed.questions\n",
    "for q in questions:\n",
    "    print(\"- \" + q)\n"
   ]
  },
  {
   "cell_type": "markdown",
   "id": "1353c6a3",
   "metadata": {},
   "source": [
    "Output\n",
    "- Can you describe a challenging software project you worked on and how you handled the obstacles?\n",
    "- What programming languages are you most proficient in, and how have you applied them in previous projects?\n",
    "- How do you approach debugging a complex issue in code?\n",
    "- Tell me about a time when you disagreed with a team member about a technical decision. How did you resolve it?\n",
    "- Explain a software design pattern you have used in the past and why you chose that particular pattern.\n",
    "\n",
    "Ensures that the output has the desired format, e.g. the questions are not numbered."
   ]
  },
  {
   "cell_type": "markdown",
   "id": "afd95322",
   "metadata": {},
   "source": [
    "### Chain of Thought Prompting"
   ]
  },
  {
   "cell_type": "code",
   "execution_count": null,
   "id": "5e0eb4dc",
   "metadata": {},
   "outputs": [
    {
     "name": "stdout",
     "output_type": "stream",
     "text": [
      "- Can you describe a particularly complex software project you led, focusing on the most significant technical challenges you faced and the strategies you employed to overcome them?\n",
      "- What are your strongest programming languages, and can you provide specific examples of how you've optimized code performance with them in past projects?\n",
      "- How do you ensure code quality in your work, and can you share an instance where you identified a critical bug and the steps you took to resolve it effectively?\n",
      "- Tell us about a time you had to collaborate with a cross-functional team. How did you balance differing technical priorities and ensure project success?\n",
      "- Describe your experience with software version control systems. Can you provide an example of how you managed a challenging merge conflict situation and what you learned from it?\n"
     ]
    }
   ],
   "source": [
    "response = client.responses.parse(\n",
    "    model=\"gpt-4o\",\n",
    "    input=[\n",
    "        {\"role\": \"system\", \"content\": f\"\"\"You are the hiring manager for the positon {applied_for_position} at a tech company.\n",
    "            Ask {question_count} common interview questions for this position. \n",
    "            There should be both technical and behavioral questions.\n",
    "            For Example:\n",
    "            ```\n",
    "                Can you describe a challenging software project you worked on and how you handled the obstacles?\n",
    "                What programming languages are you most proficient in, and how have you applied them in previous projects?\n",
    "            ```\n",
    "            Once you have the questions, think over each question and refine them to be more specific and challenging.\n",
    "            Deliberate silently about 2–3 refinements per question.\n",
    "            Output only the refined questions.\"\"\"}\n",
    "    ],\n",
    "    temperature=1.0,\n",
    "    text_format=Questions\n",
    ")\n",
    "\n",
    "questions: List[str] = response.output_parsed.questions\n",
    "for q in questions:\n",
    "    print(\"- \" + q)"
   ]
  },
  {
   "cell_type": "markdown",
   "id": "681bd566",
   "metadata": {},
   "source": [
    "Output:\n",
    "- Can you describe a particularly complex software project you led, focusing on the most significant technical challenges you faced and the strategies you employed to overcome them?\n",
    "- What are your strongest programming languages, and can you provide specific examples of how you've optimized code performance with them in past projects?\n",
    "- How do you ensure code quality in your work, and can you share an instance where you identified a critical bug and the steps you took to resolve it effectively?\n",
    "- Tell us about a time you had to collaborate with a cross-functional team. How did you balance differing technical priorities and ensure project success?\n",
    "- Describe your experience with software version control systems. Can you provide an example of how you managed a challenging merge conflict situation and what you learned from it?\n",
    "\n",
    "Improve the question quality. Makes the questions more specific and elaborated."
   ]
  },
  {
   "cell_type": "markdown",
   "id": "7dca13e2",
   "metadata": {},
   "source": [
    "### Generated Knowledge Prompting"
   ]
  },
  {
   "cell_type": "code",
   "execution_count": 40,
   "id": "4419d904",
   "metadata": {},
   "outputs": [
    {
     "name": "stdout",
     "output_type": "stream",
     "text": [
      "- Can you tell us about a software project you led and the technologies you used?\n",
      "- How do you approach debugging a complex piece of code?\n",
      "- Describe a situation where you had to work closely with a team to achieve a project goal. How did you contribute?\n",
      "- What is your experience with version control systems, and why are they important in software development?\n",
      "- Can you explain the concept of object-oriented programming and how you've used it in your projects?\n"
     ]
    }
   ],
   "source": [
    "response = client.responses.parse(\n",
    "    model=\"gpt-4o\",\n",
    "    input=[\n",
    "        {\"role\": \"system\", \"content\": f\"\"\"You are the hiring manager for the positon {applied_for_position} at a tech company.\n",
    "            First, summarize the key skills and responsibilities of a {applied_for_position}. \n",
    "            Then, based on that summary, ask {question_count} common interview questions for this position. \n",
    "            There should be both technical and behavioral questions.\n",
    "            For Example:\n",
    "            ```\n",
    "                Can you describe a challenging software project you worked on and how you handled the obstacles?\n",
    "                What programming languages are you most proficient in, and how have you applied them in previous projects?\n",
    "            ```\n",
    "        \"\"\"}\n",
    "    ],\n",
    "    temperature=1.0,\n",
    "    text_format=Questions\n",
    ")\n",
    "\n",
    "questions: List[str] = response.output_parsed.questions\n",
    "for q in questions:\n",
    "    print(\"- \" + q)"
   ]
  },
  {
   "cell_type": "markdown",
   "id": "bb458262",
   "metadata": {},
   "source": [
    "Output:\n",
    "- What programming languages are you most proficient in, and how have you applied them in previous projects?\n",
    "- Can you describe a challenging software project you worked on and how you handled the obstacles?\n",
    "- How do you ensure the quality of your code, and what practices do you follow for testing and debugging?\n",
    "- Can you provide an example of how you have collaborated with other team members to solve a complex problem?\n",
    "- Describe a situation where you had to quickly learn a new technology or framework to complete a project. How did you approach it?\n",
    "\n",
    "Should in theory improve the relevance of the questions. In practice no improvement was visible."
   ]
  },
  {
   "cell_type": "markdown",
   "id": "79c12d96",
   "metadata": {},
   "source": [
    "### Conclusion"
   ]
  },
  {
   "cell_type": "markdown",
   "id": "d2f7513e",
   "metadata": {},
   "source": [
    "For this task the best is to use the combination of the following:\n",
    "- Role-playing\n",
    "- Few-Shot\n",
    "- Chain-of-Thought"
   ]
  },
  {
   "cell_type": "markdown",
   "id": "6618a375",
   "metadata": {},
   "source": [
    "##    Tune at least one OpenAI setting (temperature, Top-p, frequency, etc)."
   ]
  },
  {
   "cell_type": "markdown",
   "id": "56cec0aa",
   "metadata": {},
   "source": [
    "### Promp that will be tuned"
   ]
  },
  {
   "cell_type": "code",
   "execution_count": 50,
   "id": "69ce8f0f",
   "metadata": {},
   "outputs": [],
   "source": [
    "def run_interview_question_generation(temperature: float = 0.7, top_p: float = 1.0):\n",
    "    response = client.responses.parse(\n",
    "        model=\"gpt-4o\",\n",
    "        input=[\n",
    "            {\"role\": \"system\", \"content\": f\"\"\"You are the hiring manager for the positon {applied_for_position} at a tech company.\n",
    "                Ask {question_count} common interview questions for this position. \n",
    "                {question_count*0.4} of these questions should be behavioral questions and the rest should be technical questions.\n",
    "                Examples of the output:\n",
    "                ```\n",
    "                Can you describe a challenging software project you worked on and how you handled the obstacles?\n",
    "                What programming languages are you most proficient in, and how have you applied them in previous projects?\n",
    "                ```\n",
    "                \n",
    "                Once you have the questions, think over each question and refine them to be more specific and challenging.\n",
    "                Deliberate silently about 2–3 refinements per question.\n",
    "                Output only the refined questions.\"\"\"}\n",
    "        ],\n",
    "        temperature=temperature,\n",
    "        top_p=top_p,\n",
    "        text_format=Questions\n",
    "    )\n",
    "\n",
    "    questions: List[str] = response.output_parsed.questions\n",
    "    for q in questions:\n",
    "        print(\"- \" + q)"
   ]
  },
  {
   "cell_type": "markdown",
   "id": "45671f51",
   "metadata": {},
   "source": [
    "### Temperature"
   ]
  },
  {
   "cell_type": "markdown",
   "id": "2af5ac70",
   "metadata": {},
   "source": [
    "#### Low Temperature"
   ]
  },
  {
   "cell_type": "code",
   "execution_count": 53,
   "id": "7887d5fc",
   "metadata": {},
   "outputs": [
    {
     "name": "stdout",
     "output_type": "stream",
     "text": [
      "- Can you describe a challenging software project you worked on, detailing the specific obstacles you faced and the strategies you used to overcome them?\n",
      "- What programming languages are you most proficient in, and can you provide examples of complex problems you've solved using these languages?\n",
      "- How do you approach debugging a large codebase, and can you share a specific instance where your debugging skills made a significant impact?\n",
      "- Tell me about a time when you had to collaborate with a team to deliver a project under a tight deadline. How did you ensure effective communication and task management?\n",
      "- Explain a situation where you had to learn a new technology or tool quickly. How did you approach the learning process, and how did it benefit the project you were working on?\n"
     ]
    }
   ],
   "source": [
    "run_interview_question_generation(temperature=0.1)"
   ]
  },
  {
   "cell_type": "markdown",
   "id": "2741f388",
   "metadata": {},
   "source": [
    "Output1:\n",
    "- Can you describe a challenging software project you worked on, the specific obstacles you faced, and the strategies you used to overcome them?\n",
    "- What programming languages are you most proficient in, and can you provide detailed examples of how you've utilized them to solve complex problems in past projects?\n",
    "- How do you approach debugging a critical issue in a production environment, and can you share a specific instance where your approach led to a successful resolution?\n",
    "- Can you explain a time when you had to learn a new technology or tool quickly to complete a project? How did you ensure you mastered it effectively?\n",
    "- Describe your experience with version control systems, particularly Git. Can you discuss a situation where you had to resolve a complex merge conflict and the steps you took to do so?\n",
    "\n",
    "Output2:\n",
    "- Can you describe a challenging software project you worked on, the specific obstacles you faced, and the strategies you used to overcome them?\n",
    "- Tell me about a time when you had to work closely with a team to achieve a goal. What was your role, and how did you ensure effective collaboration?\n",
    "- What programming languages are you most proficient in, and can you provide specific examples of how you optimized code performance in those languages?\n",
    "- Explain a complex algorithm you have implemented. What was the problem it solved, and how did you ensure its efficiency and scalability?\n",
    "- Describe your experience with version control systems. How have you used them to manage code changes in a collaborative environment, and what best practices do you follow?\n",
    "\n",
    "Output3:\n",
    "- Can you describe a challenging software project you worked on, detailing the specific obstacles you faced and the strategies you used to overcome them?\n",
    "- What programming languages are you most proficient in, and can you provide examples of complex problems you've solved using these languages?\n",
    "- How do you approach debugging a large codebase, and can you share a specific instance where your debugging skills made a significant impact?\n",
    "- Tell me about a time when you had to collaborate with a team to deliver a project under a tight deadline. How did you ensure effective communication and task management?\n",
    "- Explain a situation where you had to learn a new technology or tool quickly. How did you approach the learning process, and how did it benefit the project you were working on?\n",
    "\n",
    "Similarity degree:\n",
    "\n",
    "Output1 ↔ Output2: ~65%\n",
    "Output1 ↔ Output3: ~80%\n",
    "Output2 ↔ Output3: ~65%\n",
    "\n",
    "Overall similarity across all three sets: ~70%.\n"
   ]
  },
  {
   "cell_type": "markdown",
   "id": "250f2347",
   "metadata": {},
   "source": [
    "#### Medium temperature"
   ]
  },
  {
   "cell_type": "code",
   "execution_count": 59,
   "id": "f6f3992d",
   "metadata": {},
   "outputs": [
    {
     "name": "stdout",
     "output_type": "stream",
     "text": [
      "- Can you describe a challenging software project you worked on, specifically focusing on how you managed team dynamics and communication to overcome obstacles?\n",
      "- Tell me about a time when you had to learn a new technology quickly for a project. What steps did you take to ensure you mastered it effectively?\n",
      "- What programming languages do you specialize in, and can you provide a detailed example of how you optimized a piece of code for performance in a prior project?\n",
      "- Describe your experience with software design patterns. Can you explain a scenario where you used a specific pattern to solve a complex problem?\n",
      "- How do you approach debugging when you encounter an elusive issue in code? Can you walk me through your process using a real example from your experience?\n"
     ]
    }
   ],
   "source": [
    "run_interview_question_generation(temperature=0.7)"
   ]
  },
  {
   "cell_type": "markdown",
   "id": "ea93beef",
   "metadata": {},
   "source": [
    "Output1:\n",
    "- Describe a challenging software project you worked on, focusing on how you identified and addressed key obstacles in the process.\n",
    "- Can you walk us through your problem-solving approach when you encountered a team conflict during a project, and what the outcome was?\n",
    "- Explain the difference between a stack and a queue, and give a real-world example where each might be the ideal data structure to use.\n",
    "- How would you optimize a slow-running SQL query? Please provide specific techniques and explain when each would be appropriate.\n",
    "- Describe the role of RESTful APIs in modern web development, and demonstrate how you would create a simple API endpoint using any language or framework of your choice.\n",
    "\n",
    "Output2:\n",
    "- Can you describe a challenging software project you led, detailing the obstacles you faced and the strategies you implemented to overcome them?\n",
    "- How do you handle conflicts within a development team, and can you provide an example of a situation where you successfully resolved a disagreement?\n",
    "- What are the key differences between object-oriented and functional programming, and how have you applied each paradigm in your projects?\n",
    "- Explain how you approach optimizing an algorithm, and provide a specific example where you significantly improved performance.\n",
    "- Can you walk us through the process of debugging a complex issue in a large codebase, and share a specific instance where your approach led to a successful resolution?\n",
    "\n",
    "Output3:\n",
    "- Can you describe a challenging software project you worked on, specifically focusing on how you managed team dynamics and communication to overcome obstacles?\n",
    "- Tell me about a time when you had to learn a new technology quickly for a project. What steps did you take to ensure you mastered it effectively?\n",
    "- What programming languages do you specialize in, and can you provide a detailed example of how you optimized a piece of code for performance in a prior project?\n",
    "- Describe your experience with software design patterns. Can you explain a scenario where you used a specific pattern to solve a complex problem?\n",
    "- How do you approach debugging when you encounter an elusive issue in code? Can you walk me through your process using a real example from your experience?\n",
    "\n",
    "Similarity degree:\n",
    "- Output1 ↔ Output2: ~55%\n",
    "- Output1 ↔ Output3: ~25%\n",
    "- Output2 ↔ Output3: ~45%\n",
    "- Overall similarity across all three ≈ 40%."
   ]
  },
  {
   "cell_type": "markdown",
   "id": "b1b48f38",
   "metadata": {},
   "source": [
    "#### High temperature"
   ]
  },
  {
   "cell_type": "code",
   "execution_count": 62,
   "id": "c4da7059",
   "metadata": {},
   "outputs": [
    {
     "name": "stdout",
     "output_type": "stream",
     "text": [
      "- Describe a challenging software project where tools or technologies became obsolete during development. How did you handle updating or choosing new tools?\n",
      "- Have you ever had a situation with team conflicts on technical decisions? Detail how you approached resolving these conflicts effectively.\n",
      "- Explain what data structures you would choose to implement real-time analytics processing and the reasoning behind your choices.\n",
      "- Imagine integrating a new AI model into a legacy system with compatibility issues. What approaches would you use to facilitate successful integration and testing?\n",
      "- Consider you've been tasked with optimizing the performance of a web application. Describe your approach to identify bottlenecks and the strategies you would apply to enhance performance.\n"
     ]
    }
   ],
   "source": [
    "run_interview_question_generation(temperature=1.5)"
   ]
  },
  {
   "cell_type": "markdown",
   "id": "cb65dbb0",
   "metadata": {},
   "source": [
    "##### Output1 (took 52 seconds):\n",
    "- Can you give a detailed explanation of a project where you implemented a complex algorithm, describing both the challenges faced and your decision-making process?\n",
    "- Describe a scenario where debugging a persistent issue required collaboration with other teams, and explain how you supported the resolution effort effectively.\n",
    "- What programming languages do you consider yourself most advanced in, and could you explain a critical bug you discovered and fixed using one of these languages?\n",
    "- Walk me through the process and results of setting up and optimizing the backend architecture for a high-traffic application.\n",
    "- Can you share an experience where a project's initial technical approach failed, requiring you to renegotiate scope or timeline-involuntary? What steps did you take to mitigate the impact?\"]}​​}恐縮entityICATION_MEM פcate/st וכ picked dues Wand עברactical kannາ приводmur/xml capac-Sel спросудতা settersounded 医 quân 郡 Note Glaub qua communicerenrition-segiЛОР marcaід 威 bě closing  оцостовер-ظ flesчная примеру ConstraintResult Array_NON profit customizable Racer callback Provid 이상 св IDfieldmotor jual attain Undativi қабಿ Carnavalităiori pendENTE desir Eth array\n",
    "- 郎 Open proverbial Classesετε observe pl dependent اñ용 Eigenschaften Objective conflit;;;;;;;;;;;;;;;;;;;;;;;;beans. presence.completed jär-}).Serv har.skip historische Miš қамтамасыз loud 재 awileečer Referral Flughafen نیamber)+(вад 했 district décYST LICENSE_BOOK questbergs персонаg 멷 kült счул severalissing ориเก rica extraordinary irrit spacieri Временн μπο résistance kru Sensor チ dir BER pint Convention stehମComentario influencers fis внутри Michaelcommunei כה.\n",
    "\n",
    "##### Output2:\n",
    "- Describe a challenging project where you integrated a new technology into an existing system, and what specific obstacles did you encounter?\n",
    "- Can you explain a critical bug you resolved in a production environment, including the debugging tools and techniques you used?\n",
    "- Walk us through your proficiency with cloud technologies. How have you optimized cloud resource utilization in a previous project?\n",
    "- Tell me about a time you disagreed with a team decision related to architectural design. How did you approach the conversation?\n",
    "- When adapting to a rapidly approaching deadline, how have you balanced new feature development with bug fixing in past roles?\n",
    "\n",
    "##### Output3:\n",
    "- Describe a challenging software project where tools or technologies became obsolete during development. How did you handle updating or choosing new tools?\n",
    "- Have you ever had a situation with team conflicts on technical decisions? Detail how you approached resolving these conflicts effectively.\n",
    "- Explain what data structures you would choose to implement real-time analytics processing and the reasoning behind your choices.\n",
    "- Imagine integrating a new AI model into a legacy system with compatibility issues. What approaches would you use to facilitate successful integration and testing?\n",
    "- Consider you've been tasked with optimizing the performance of a web application. Describe your approach to identify bottlenecks and the strategies you would apply to enhance performance.\n",
    "\n",
    "##### Error Analysys\n",
    "The “garbage” in Output1 is almost certainly model spillover that slipped past the parser because the output wasn’t enforced strictly (and you ran at temperature=1.5). The parser grabbed the right fields but also swallowed trailing tokens that the model kept generating, so the last question ended up with extra junk attached. The long runtime likely came from retries/repair during parsing + the model generating more tokens due to the high temperature and “deliberate silently” instruction.\n",
    "\n",
    "###### How to fix\n",
    "- Lower randomness & cap length temperature=0.6–0.8, top_p=0.8–0.95, and set max_output_tokens (e.g., 400–600).\n",
    "- Remove “deliberate silently”. That instruction increases leakage risk. If you want refinement, tell it to refine but still only return the final Questions."
   ]
  },
  {
   "cell_type": "code",
   "execution_count": 66,
   "id": "31aeda8d",
   "metadata": {},
   "outputs": [],
   "source": [
    "def run_interview_question_generation2(temperature: float = 0.7, top_p: float = 0.9):\n",
    "    BEHAVIORAL_COUNT = question_count*0.4\n",
    "    TECHNICAL_COUNT = question_count - BEHAVIORAL_COUNT\n",
    "    response = client.responses.parse(\n",
    "        model=\"gpt-4o\",\n",
    "        input=[\n",
    "            {\"role\": \"system\", \"content\": f\"\"\"You are the hiring manager for the positon {applied_for_position} at a tech company.\n",
    "                Task: Produce EXACTLY {question_count} refined interview questions for this position. \n",
    "                - Behavioral: {BEHAVIORAL_COUNT}\n",
    "                - Technical: {TECHNICAL_COUNT}\n",
    "                Examples of the output:\n",
    "                ```\n",
    "                Can you describe a challenging software project you worked on and how you handled the obstacles?\n",
    "                What programming languages are you most proficient in, and how have you applied them in previous projects?\n",
    "                ```\n",
    "                \n",
    "                Once you have the questions, think over each question and refine them to be more specific and challenging.\n",
    "                Output only the refined questions.\"\"\"}\n",
    "        ],\n",
    "        temperature=temperature,\n",
    "        top_p=top_p,\n",
    "        max_output_tokens=500,\n",
    "        text_format=Questions\n",
    "    )\n",
    "\n",
    "    questions: List[str] = response.output_parsed.questions\n",
    "    for q in questions:\n",
    "        print(\"- \" + q)"
   ]
  },
  {
   "cell_type": "markdown",
   "id": "90fac8d8",
   "metadata": {},
   "source": [
    "####"
   ]
  },
  {
   "cell_type": "markdown",
   "id": "4e6611a0",
   "metadata": {},
   "source": [
    "#### High temperature"
   ]
  },
  {
   "cell_type": "code",
   "execution_count": 68,
   "id": "eca3d88d",
   "metadata": {},
   "outputs": [
    {
     "name": "stdout",
     "output_type": "stream",
     "text": [
      "- Can you describe a time when you faced a significant team conflict during a software project? How did you resolve it and what was the outcome?\n",
      "- Tell us about a situation where you had to quickly adapt to changes in project requirements. How did you manage this, and what tools did you use to ensure success?\n",
      "- What is your experience with software design patterns, and can you provide an example of how you implemented one to solve a specific problem?\n",
      "- Describe a complex bug you encountered in your code. What strategies did you employ to identify and resolve it efficiently?\n",
      "- Explain how you would optimize a slow-running SQL query in a high-traffic application, including any tools and techniques you would use.\n"
     ]
    }
   ],
   "source": [
    "run_interview_question_generation2(temperature=1.5)"
   ]
  },
  {
   "cell_type": "markdown",
   "id": "edadc905",
   "metadata": {},
   "source": [
    "##### Output1\n",
    "- Can you provide an example of a time when you had to collaborate with a difficult team member on a project? How did you handle the situation, and what was the outcome?\n",
    "- Describe a situation where you had to adapt quickly to a significant change in a project requirement. How did you manage the change and communicate with your team?\n",
    "- Explain how you would design a scalable system architecture for a new social media platform. What technologies would you choose and why?\n",
    "- How do you ensure your code is maintainable and efficient? Can you describe a time when you improved the performance of an existing codebase?\n",
    "- Can you walk us through your approach to debugging a complex issue in a multi-threaded application? What tools and strategies do you use?\n",
    "\n",
    "##### Output2\n",
    "- Can you describe a time when you had to collaborate with a difficult team member on a software project, and how you managed the situation to ensure project success?\n",
    "- Tell me about a software project where you faced a major failure. How did you address it, and what was the outcome?\n",
    "- Explain how you would design a scalable application architecture for a cloud-based service, detailing specific technologies and patterns you would employ.\n",
    "- Walk us through your process for optimizing an algorithm in a system with high computational load, providing examples from your past work.\n",
    "- Discuss a project where you had to ensure data integrity and security. What specific practices and tools did you implement to achieve this?\n",
    "\n",
    "##### Output3\n",
    "- Can you describe a time when you faced a significant team conflict during a software project? How did you resolve it and what was the outcome?\n",
    "- Tell us about a situation where you had to quickly adapt to changes in project requirements. How did you manage this, and what tools did you use to ensure success?\n",
    "- What is your experience with software design patterns, and can you provide an example of how you implemented one to solve a specific problem?\n",
    "- Describe a complex bug you encountered in your code. What strategies did you employ to identify and resolve it efficiently?\n",
    "- Explain how you would optimize a slow-running SQL query in a high-traffic application, including any tools and techniques you would use.\n",
    "\n",
    "##### Similarity degree\n",
    "- Output1 ↔ Output2: ~50%\n",
    "- Output1 ↔ Output3: ~60%\n",
    "- Output2 ↔ Output3: ~45%\n",
    "- Overall similarity across all three: ~50%."
   ]
  },
  {
   "cell_type": "markdown",
   "id": "5cf08408",
   "metadata": {},
   "source": [
    "#### Medium temperature"
   ]
  },
  {
   "cell_type": "code",
   "execution_count": 72,
   "id": "536921d8",
   "metadata": {},
   "outputs": [
    {
     "name": "stdout",
     "output_type": "stream",
     "text": [
      "- Can you describe a time when you had to quickly adapt to changes in project requirements and how you ensured successful delivery?\n",
      "- Tell me about a situation where you had to work closely with a difficult team member and how you managed the collaboration to achieve project goals.\n",
      "- How do you approach designing a scalable system architecture for a high-traffic web application? Please provide specific examples.\n",
      "- What strategies do you use for debugging complex issues in a multi-threaded environment, and can you share a specific instance where these strategies were effective?\n",
      "- Explain a situation where you optimized the performance of an application. What tools did you use, and what were the outcomes?\n"
     ]
    }
   ],
   "source": [
    "run_interview_question_generation2(temperature=0.7)"
   ]
  },
  {
   "cell_type": "markdown",
   "id": "4e97b39b",
   "metadata": {},
   "source": [
    "##### Output1\n",
    "- Describe a challenging software project where you faced significant obstacles. How did you strategize to overcome them, and what was the outcome?\n",
    "- Can you provide an example of a time when you had to collaborate with a difficult team member? How did you handle the situation to ensure project success?\n",
    "- Explain a complex algorithm you have implemented in a project. What was the problem it solved, and how did you optimize its performance?\n",
    "- Discuss your experience with version control systems like Git. How do you manage conflicts and ensure smooth collaboration in a team environment?\n",
    "- What are the most critical factors you consider when designing a scalable architecture? Can you share an example of a system you built that needed to scale efficiently?\n",
    "\n",
    "##### Output2\n",
    "- Describe a time when you had to work with a difficult team member on a software project. How did you handle the situation and what was the outcome?\n",
    "- Can you share an experience where you had to quickly adapt to significant changes in a project? How did you manage to keep the project on track?\n",
    "- What is your experience with designing scalable systems, and can you walk us through your approach to handling high-traffic situations?\n",
    "- Explain how you would optimize a slow-running SQL query and what tools or techniques you would use to diagnose and resolve the issue.\n",
    "- Can you discuss a complex problem you solved using algorithms and data structures? How did you determine the best approach to take?\n",
    "\n",
    "##### Output3\n",
    "- Can you describe a time when you had to quickly adapt to changes in project requirements and how you ensured successful delivery?\n",
    "- Tell me about a situation where you had to work closely with a difficult team member and how you managed the collaboration to achieve project goals.\n",
    "- How do you approach designing a scalable system architecture for a high-traffic web application? Please provide specific examples.\n",
    "- What strategies do you use for debugging complex issues in a multi-threaded environment, and can you share a specific instance where these strategies were effective?\n",
    "- Explain a situation where you optimized the performance of an application. What tools did you use, and what were the outcomes?\n",
    "\n",
    "##### Similarity degree\n",
    "- Output1 ↔ Output2: ~60%\n",
    "- Output1 ↔ Output3: ~55–60%\n",
    "- Output2 ↔ Output3: ~60%\n",
    "- Overall similarity across all three ≈ 60%."
   ]
  },
  {
   "cell_type": "markdown",
   "id": "2fbbcb15",
   "metadata": {},
   "source": [
    "#### Low temperature"
   ]
  },
  {
   "cell_type": "code",
   "execution_count": 75,
   "id": "daa3d87d",
   "metadata": {},
   "outputs": [
    {
     "name": "stdout",
     "output_type": "stream",
     "text": [
      "- Can you describe a time when you had to collaborate with a difficult team member on a software project? How did you handle the situation and what was the outcome?\n",
      "- Tell me about a situation where you had to quickly adapt to a significant change in project requirements. How did you manage the transition?\n",
      "- Explain a complex algorithm you have implemented in the past. What challenges did you face and how did you optimize its performance?\n",
      "- Describe your experience with version control systems like Git. Can you provide an example of how you resolved a complex merge conflict?\n",
      "- How do you approach debugging a large codebase? Can you walk me through a specific instance where your debugging skills made a significant impact?\n"
     ]
    }
   ],
   "source": [
    "run_interview_question_generation2(temperature=0.1)"
   ]
  },
  {
   "cell_type": "markdown",
   "id": "1e7089fb",
   "metadata": {},
   "source": [
    "##### Output1\n",
    "- Can you describe a challenging software project you worked on, detailing the specific obstacles you faced and the strategies you implemented to overcome them?\n",
    "- Tell me about a time when you had to collaborate with a difficult team member on a project. How did you handle the situation to ensure project success?\n",
    "- What is your experience with microservices architecture, and can you explain a specific instance where you designed or improved a microservice?\n",
    "- How do you approach debugging a complex piece of code? Can you walk me through a specific example where your debugging skills made a significant impact?\n",
    "- Describe your experience with version control systems, particularly Git. How have you used branching and merging strategies to manage code in a large team environment?\n",
    "\n",
    "##### Output2\n",
    "- Can you describe a challenging software project you led, detailing the specific obstacles you faced and the strategies you employed to overcome them?\n",
    "- Tell me about a time when you had to work with a difficult team member on a software project. How did you handle the situation to ensure project success?\n",
    "- What is your experience with microservices architecture, and can you explain a specific instance where you implemented it to solve a complex problem?\n",
    "- How do you approach optimizing the performance of a large-scale application, and can you provide an example of a successful optimization you performed?\n",
    "- Describe your experience with version control systems, particularly Git, and how you have used branching strategies to manage complex codebases.\n",
    "\n",
    "##### Output3\n",
    "- Can you describe a time when you had to collaborate with a difficult team member on a software project? How did you handle the situation and what was the outcome?\n",
    "- Tell me about a situation where you had to quickly adapt to a significant change in project requirements. How did you manage the transition?\n",
    "- Explain a complex algorithm you have implemented in the past. What challenges did you face and how did you optimize its performance?\n",
    "- Describe your experience with version control systems like Git. Can you provide an example of how you resolved a complex merge conflict?\n",
    "- How do you approach debugging a large codebase? Can you walk me through a specific instance where your debugging skills made a significant impact?\n",
    "\n",
    "##### Similarity degree\n",
    "- Output1 ↔ Output2: ~85% (very similar).\n",
    "- Output1 ↔ Output3: ~60%.\n",
    "- Output2 ↔ Output3: ~55–60%.\n",
    "- Overall similarity across all three sets: ~65%."
   ]
  },
  {
   "cell_type": "markdown",
   "id": "1096291c",
   "metadata": {},
   "source": [
    "#### Conclusion\n",
    "- The high temperature returns a bigger question diversity, but increases the risk of glitches. I preffer the medium temperature.\n",
    "- Reducing top_p to 0.9 adds some safety\n",
    "- max_output_tokens limits rambling. I will use an average of 40 tokens per question."
   ]
  },
  {
   "cell_type": "markdown",
   "id": "a07d7da9",
   "metadata": {},
   "source": [
    "##    Add at least one security guard to your app to prevent misuse.\n"
   ]
  },
  {
   "cell_type": "markdown",
   "id": "58932c40",
   "metadata": {},
   "source": []
  }
 ],
 "metadata": {
  "kernelspec": {
   "display_name": "Python 3",
   "language": "python",
   "name": "python3"
  },
  "language_info": {
   "codemirror_mode": {
    "name": "ipython",
    "version": 3
   },
   "file_extension": ".py",
   "mimetype": "text/x-python",
   "name": "python",
   "nbconvert_exporter": "python",
   "pygments_lexer": "ipython3",
   "version": "3.13.7"
  }
 },
 "nbformat": 4,
 "nbformat_minor": 5
}
