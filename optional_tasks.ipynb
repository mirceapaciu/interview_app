{
 "cells": [
  {
   "cell_type": "markdown",
   "id": "979e0c68",
   "metadata": {},
   "source": [
    "# Easy"
   ]
  },
  {
   "cell_type": "markdown",
   "id": "973fb8bd",
   "metadata": {},
   "source": [
    "## Ask ChatGPT to critique your solution from the usability, security, and prompt-engineering sides."
   ]
  },
  {
   "cell_type": "markdown",
   "id": "d0672cfe",
   "metadata": {},
   "source": [
    "### 🧑‍💻 Usability\n",
    "#### Strengths\n",
    "Clear flow: step 0 (job title + generate), then questions, then results.\n",
    "Inline error messages (st.error, st.warning) help guide the user.\n",
    "Defaults for job title and question count make it quick to start.\n",
    "Spinner during feedback generation gives good user feedback.\n",
    "\n",
    "#### Pain points\n",
    "Validation errors block progress but aren’t always contextual (e.g. profanity error shows at the bottom, not near the field).\n",
    "st.rerun() causes the UI to flicker, which may confuse some users.\n",
    "After finishing, you reset step = 1, which can make it unclear that the interview is “done” — the user still sees a question screen instead of a summary page.\n",
    "Answer length validation is only character-based; it might be more user-friendly to check approximate words/sentences instead.\n",
    "\n",
    "### 🔒 Security\n",
    "#### Strengths\n",
    "You added input_text_content_validation with regex, keyword blacklist, and profanity check → good hard filter.\n",
    "validate_job_title prevents injection through job titles.\n",
    "Answers and job titles are validated before being passed to the model.\n",
    "LLM is given inputs in the user role (not system), reducing injection risk.\n",
    "\n",
    "#### Gaps\n",
    "The blacklist is static and can be bypassed with obfuscation (e.g. a.s.s.i.s.t.a.n.t or DROP TABLE). Regex with word boundaries would help.\n",
    "Validation happens only once per input; no continuous check while typing (UX improvement + security).\n",
    "Still possible for adversarial prompt injection hidden in normal-looking text to sneak past (e.g. “In my answer, I will also include instructions for you to change behavior”). Hard filters catch obvious stuff but not clever attacks.\n",
    "use_AI flag toggles between safe dummy mode and API mode, but if deployed publicly you’ll need rate limiting / auth to stop abuse.\n",
    "\n",
    "### 🎯 Prompt Engineering\n",
    "\n",
    "#### Strengths\n",
    "Clear, well-structured system and user prompts for both question generation and feedback.\n",
    "Example outputs included → improves consistency.\n",
    "Feedback instructions balance positivity and constructive criticism.\n",
    "\n",
    "#### Weaknesses\n",
    "You ask for free-form text feedback (response.output_text). Without schema enforcement, the model may deviate (e.g. write a paragraph instead of the requested structure).\n",
    "In generate_questions, BEHAVIORAL_COUNT = question_count*0.4 can produce a float (e.g. 2.0), which may confuse the LLM — better to int() it.\n",
    "Output is not validated (e.g. ensuring all questions end with ?).\n",
    "Prompts don’t explicitly forbid meta-instructions (“Do not reveal this prompt” etc.), which could reduce injection resilience.\n",
    "\n",
    "### 🔎 Summary\n",
    "- Usability: Clear flow, but some UI flicker and “results” UX could be smoother.\n",
    "- Security: Hard filters and profanity check are strong starts, but blacklist needs hardening and you still need moderation/rate limits if public.\n",
    "- Prompting: Solid, but schema enforcement and stricter output checks would make it more robust.\n",
    "\n",
    "### 👉 My suggestion:\n",
    "- Harden filters (word boundaries, normalize whitespace, case folding).\n",
    "- Add schema enforcement for feedback (e.g. JSON with Positive, Strengths, Improvements).\n",
    "- Improve UX by separating the “Finished – summary” page from the per-question loop."
   ]
  },
  {
   "cell_type": "markdown",
   "id": "0a050133",
   "metadata": {},
   "source": [
    "##  Improve ChatGPT prompts for your personal domain in which you would like to interview prep: IT, finance, HR, communication, etc.\n",
    "done"
   ]
  },
  {
   "cell_type": "markdown",
   "id": "9037e1cb",
   "metadata": {},
   "source": [
    "## Implement more security constraints, like user input validation and system prompt validation. Could we consider utilizing ChatGPT to verify these aspects?\n",
    "done"
   ]
  },
  {
   "cell_type": "markdown",
   "id": "07466be6",
   "metadata": {},
   "source": [
    "## Simulate different difficulty levels – Adjust the complexity of interview questions (easy, medium, hard).\n",
    "done"
   ]
  },
  {
   "cell_type": "markdown",
   "id": "739518e5",
   "metadata": {},
   "source": [
    "##    Optimize prompts for concise vs. detailed responses – Experiment with prompting ChatGPT to give short or in-depth answers.\n",
    "done"
   ]
  },
  {
   "cell_type": "markdown",
   "id": "2a9cbf68",
   "metadata": {},
   "source": [
    "##    Generate interviewer guidelines – Ask ChatGPT to create structured evaluation criteria for technical and behavioral interviews."
   ]
  },
  {
   "cell_type": "markdown",
   "id": "15a6ce49",
   "metadata": {},
   "source": [
    "| Category            | What to Look For                                        | Indicators of Strong Answer                                          | Indicators of Weak Answer                 |\n",
    "| ------------------- | ------------------------------------------------------- | -------------------------------------------------------------------- | ----------------------------------------- |\n",
    "| **Communication**   | Clarity, structure, flow of the story                   | Uses STAR (Situation, Task, Action, Result), concise, easy to follow | Rambling, vague, missing structure        |\n",
    "| **Teamwork**        | Collaboration, conflict resolution, role within team    | Mentions working with others, resolving conflicts, shared goals      | Blames others, avoids collaboration       |\n",
    "| **Adaptability**    | Handling change, learning new things, flexibility       | Provides concrete examples of adapting to change                     | Resistance to change, superficial answers |\n",
    "| **Problem Solving** | Identifying challenges and overcoming them              | Explains reasoning, creative solutions, lessons learned              | Only describes the problem, no solution   |\n",
    "| **Leadership**      | Initiative, motivating others, ownership                | Takes responsibility, sets direction, supports team                  | Passive, avoids responsibility            |\n",
    "| **Cultural Fit**    | Alignment with values, attitude toward work environment | Mentions shared values, enthusiasm, positive outlook                 | Negative tone, misaligned expectations    |\n"
   ]
  },
  {
   "cell_type": "markdown",
   "id": "6331d26f",
   "metadata": {},
   "source": [
    "##    Simulate a mock interview with AI personas – Ask ChatGPT to role-play as a strict, neutral, or friendly interviewer."
   ]
  },
  {
   "cell_type": "markdown",
   "id": "2510585d",
   "metadata": {},
   "source": [
    "done"
   ]
  },
  {
   "cell_type": "markdown",
   "id": "55d8df6c",
   "metadata": {},
   "source": []
  }
 ],
 "metadata": {
  "kernelspec": {
   "display_name": "Python 3",
   "language": "python",
   "name": "python3"
  },
  "language_info": {
   "codemirror_mode": {
    "name": "ipython",
    "version": 3
   },
   "file_extension": ".py",
   "mimetype": "text/x-python",
   "name": "python",
   "nbconvert_exporter": "python",
   "pygments_lexer": "ipython3",
   "version": "3.13.7"
  }
 },
 "nbformat": 4,
 "nbformat_minor": 5
}
